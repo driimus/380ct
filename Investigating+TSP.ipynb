{
  "nbformat": 4,
  "nbformat_minor": 0,
  "metadata": {
    "kernelspec": {
      "display_name": "Python 3",
      "language": "python",
      "name": "python3"
    },
    "language_info": {
      "codemirror_mode": {
        "name": "ipython",
        "version": 3
      },
      "file_extension": ".py",
      "mimetype": "text/x-python",
      "name": "python",
      "nbconvert_exporter": "python",
      "pygments_lexer": "ipython3",
      "version": "3.7.4"
    },
    "colab": {
      "name": "Investigating+TSP.ipynb",
      "provenance": [],
      "collapsed_sections": [],
      "include_colab_link": true
    }
  },
  "cells": [
    {
      "cell_type": "markdown",
      "metadata": {
        "id": "view-in-github",
        "colab_type": "text"
      },
      "source": [
        "<a href=\"https://colab.research.google.com/github/driimus/380ct/blob/master/Investigating%2BTSP.ipynb\" target=\"_parent\"><img src=\"https://colab.research.google.com/assets/colab-badge.svg\" alt=\"Open In Colab\"/></a>"
      ]
    },
    {
      "cell_type": "markdown",
      "metadata": {
        "id": "-hWjaGwI_hza",
        "colab_type": "text"
      },
      "source": [
        "<h1><center>Travelling Salesman Problem (TSP) - Metaheuristcs </center></h1>"
      ]
    },
    {
      "cell_type": "markdown",
      "metadata": {
        "id": "CUZnltIL_hz3",
        "colab_type": "text"
      },
      "source": [
        "<p>Adam Nouwailati</p>\n",
        "<p>Cristian-Iulian Petre</p>\n",
        "<p>Tiago Filipe Rosário Costa </p>\n",
        "\n",
        "[https://github.coventry.ac.uk/380CT-1920JANMAY/TSP-Guidance](https://github.coventry.ac.uk/380CT-1920JANMAY/TSP-Guidance)"
      ]
    },
    {
      "cell_type": "markdown",
      "metadata": {
        "id": "MRKeXDaG_h0N",
        "colab_type": "text"
      },
      "source": [
        "# Notation and definitions"
      ]
    },
    {
      "cell_type": "markdown",
      "metadata": {
        "id": "SyqAfX-I_h0l",
        "colab_type": "text"
      },
      "source": [
        "Let $G$ be a complete weighted graph with $n$ vertices...\n",
        "\n",
        "- **Complete**: the graph is undirected, has no self-loops, and each node is connected to all the other vertices.\n",
        "- **Weighted**: the edges have a weight (a positive integer).\n",
        "- **Cycle**: a path that visits every vertex once, and goes back to the start point.\n",
        "- **Total cost of the cycle**: sum of the edge weights of the cycle."
      ]
    },
    {
      "cell_type": "markdown",
      "metadata": {
        "id": "h2BkMNvb_h0r",
        "colab_type": "text"
      },
      "source": [
        "# Definition of the problem"
      ]
    },
    {
      "cell_type": "markdown",
      "metadata": {
        "id": "btOpFp0K_h0y",
        "colab_type": "text"
      },
      "source": [
        "Given $G$ as above, the versions of the TSP are defined as follows:\n",
        "\n",
        "* **Decisional TSP (D-TSP)**:\n",
        "> Given a total cost $k$, decide if $G$ is has a cycle of length $\\leq k$.\n",
        "\n",
        "    **NP-complete**, because D-TSP $\\in$ NP and D-TSP $\\leq_p$ HAMCYCLE.\n",
        "    \n",
        "    * D-TSP $\\in$ NP: once a cycle is given (a certificate) we can quickly evaluate the its cost in $O(n)$ time to verify it is equal to $k$.\n",
        "    * D-TSP $\\leq_p$ HAMCYCLE: Reduction from HAMCYCLE (Hoos and Stutzler, p.25).\n",
        "\n",
        "* **Search TSP**:\n",
        "> Given a total cost $k$, search for a cycle of length $\\leq k$ in $G$.\n",
        "> (If found then return it, otherwise say that there is no such cycle.)\n",
        "    \n",
        "* **Optimization TSP**:\n",
        "> Given $G$, find a cycle of minimal total cost.\n",
        "\n",
        "    **NP-Hard**, because the optimization version of (decision) NP-complete problems are automatically NP-Hard. (using the same method sketched above for **Search TSP**)\n",
        "\n",
        "The facts about the complexity classes memberships can also be found in (Garey and Johnson, 1979) and (Hoos and Stutzler, 2005)."
      ]
    },
    {
      "cell_type": "markdown",
      "metadata": {
        "id": "FXJPAmAv_h1F",
        "colab_type": "text"
      },
      "source": [
        "# Testing methodology"
      ]
    },
    {
      "cell_type": "markdown",
      "metadata": {
        "id": "cf78WpzF_h1M",
        "colab_type": "text"
      },
      "source": [
        "* **Exact methods**:\n",
        "    Average time for instances with increasing $n$.\n",
        "\n",
        "* **Greedy and meta-heuristics**:\n",
        "    Average \"quality\" as $n$ increases.\n"
      ]
    },
    {
      "cell_type": "markdown",
      "metadata": {
        "id": "8MLSBCSg_h1h",
        "colab_type": "text"
      },
      "source": [
        "## Random instances sampling strategy"
      ]
    },
    {
      "cell_type": "markdown",
      "metadata": {
        "id": "W_wrX_XG_h12",
        "colab_type": "text"
      },
      "source": [
        "General TSP instances will be generated by creating symmetric adjacency matrices uniformly at random."
      ]
    },
    {
      "cell_type": "markdown",
      "metadata": {
        "id": "x43fbPQE_h2G",
        "colab_type": "text"
      },
      "source": [
        "# Code"
      ]
    },
    {
      "cell_type": "markdown",
      "metadata": {
        "id": "nfzW4t-h_h2J",
        "colab_type": "text"
      },
      "source": [
        "First start by importing relevant libraries."
      ]
    },
    {
      "cell_type": "code",
      "metadata": {
        "id": "FVxr1tYU_h2e",
        "colab_type": "code",
        "colab": {}
      },
      "source": [
        "from random import randint, choice\n",
        "from pprint import pprint\n",
        "from itertools import permutations\n",
        "from math import inf as oo # Infinity (∞) is larger than any number\n",
        "from math import exp, log\n",
        "from time      import time\n",
        "import matplotlib.pyplot as plt\n",
        "import copy"
      ],
      "execution_count": 0,
      "outputs": []
    },
    {
      "cell_type": "markdown",
      "metadata": {
        "id": "dgETHl5n_h28",
        "colab_type": "text"
      },
      "source": [
        "## Basics"
      ]
    },
    {
      "cell_type": "markdown",
      "metadata": {
        "id": "rDQJpZ2N_h3C",
        "colab_type": "text"
      },
      "source": [
        "Let the set of vertices be $\\{0, 1, 2,\\ldots, n-1\\}$.\n",
        "\n",
        "Without loss of generality, we can consider $0$ to be the start and end point of cycles."
      ]
    },
    {
      "cell_type": "code",
      "metadata": {
        "id": "3fwWQ4VP_h3M",
        "colab_type": "code",
        "colab": {}
      },
      "source": [
        "MAX_DISTANCE = 100\n",
        "\n",
        "def random_symmetric_graph(n):\n",
        "    ''' Symmetric adjacency matrix of size nxn '''\n",
        "    dist_matrix = [[oo for _ in range(n)] for _ in range(n)]\n",
        "    avg_dist = 0\n",
        "    for i in range(n):\n",
        "        for j in range(i+1,n):\n",
        "            v = randint(1,MAX_DISTANCE)\n",
        "            avg_dist += v\n",
        "            dist_matrix[i][j] = v\n",
        "            dist_matrix[j][i] = v\n",
        "    return dist_matrix, avg_dist/n\n",
        "\n",
        "def show(G):\n",
        "    ''' Show adjacency matrix. Useful for debugging. '''\n",
        "    n = len(G)\n",
        "    r = \"     \"\n",
        "    for i in range(n):\n",
        "        r += f'{i:4}'\n",
        "    r += '\\n    -'+'-'*(4*n)+'\\n'\n",
        "    for i in range(n):\n",
        "        r += f'{i:2} | '\n",
        "        for j in range(n):\n",
        "            r += f'{G[i][j]:4}'\n",
        "        r += '\\n'\n",
        "    r = r.replace('inf', '  ∞')\n",
        "    print(r)\n",
        "\n",
        "def cost(G, cycle):\n",
        "    ''' Calculate the cost of the given cycle '''\n",
        "    c = 0\n",
        "    n = len(G)\n",
        "    for i in range(n):\n",
        "        # a = cycle[i]\n",
        "        # b = cycle[(i+1)%n]\n",
        "        c += G[cycle[i]][cycle[i-1]]\n",
        "    return c"
      ],
      "execution_count": 0,
      "outputs": []
    },
    {
      "cell_type": "markdown",
      "metadata": {
        "id": "jwnJokt4_h3n",
        "colab_type": "text"
      },
      "source": [
        "### Example"
      ]
    },
    {
      "cell_type": "code",
      "metadata": {
        "id": "xSPi1Pp2_h3s",
        "colab_type": "code",
        "outputId": "3213abf5-81b8-4d94-b988-ac5608b9e5a6",
        "colab": {
          "base_uri": "https://localhost:8080/",
          "height": 153
        }
      },
      "source": [
        "G, avg_dist = random_symmetric_graph(5)\n",
        "show(G)"
      ],
      "execution_count": 81,
      "outputs": [
        {
          "output_type": "stream",
          "text": [
            "        0   1   2   3   4\n",
            "    ---------------------\n",
            " 0 |    ∞  37  56  10  61\n",
            " 1 |   37   ∞  12   5  57\n",
            " 2 |   56  12   ∞  34  68\n",
            " 3 |   10   5  34   ∞  83\n",
            " 4 |   61  57  68  83   ∞\n",
            "\n"
          ],
          "name": "stdout"
        }
      ]
    },
    {
      "cell_type": "markdown",
      "metadata": {
        "id": "Ke6Zt3is_h37",
        "colab_type": "text"
      },
      "source": [
        "# Solution methods"
      ]
    },
    {
      "cell_type": "markdown",
      "metadata": {
        "id": "wL7dHPID_h4C",
        "colab_type": "text"
      },
      "source": [
        "## Exact methods -- Exhaustive search"
      ]
    },
    {
      "cell_type": "markdown",
      "metadata": {
        "id": "KAFe3rq4_h4G",
        "colab_type": "text"
      },
      "source": [
        "The idea is to:\n",
        "- Consider vertex $0$ as the start and end point.\n",
        "- Iterate over all permutations of the vertices $\\{1,2,\\ldots, n-1\\}$.\n",
        "    -  Calculate cost of each permutation and keep track of minimum cost permutation.\n",
        "- Return the cycle with minimum cost.\n",
        "\n",
        "More formally, the pseudo-code is as follows:\n",
        "\n",
        "**Input**: $G$.\n",
        "\n",
        "**Output**: a cycle in $G$ of shortest cost."
      ]
    },
    {
      "cell_type": "markdown",
      "metadata": {
        "id": "bMk0Wg6p_h4N",
        "colab_type": "text"
      },
      "source": [
        "1. $bestcycle\\gets \\emptyset$\n",
        "2. $bestcost\\gets \\infty$\n",
        "3. **for all** possible cycles $p$ in $G$ (starting and ending at $0$) **do**\n",
        "4. $\\quad$ $c\\gets$ cost of $p$\n",
        "2. $\\quad$ **if** $c<bestcost$ **then**\n",
        "3. $\\qquad$ $bestcycle\\gets p$\n",
        "3. $\\qquad$ $bestcost\\gets c$\n",
        "4. $\\quad$ **end if**\n",
        "5. **end for**\n",
        "6. **return** $bestcycle, bestcost$"
      ]
    },
    {
      "cell_type": "markdown",
      "metadata": {
        "id": "0wekU5WP_h4R",
        "colab_type": "text"
      },
      "source": [
        "There are $(n-1)!$ possible cycles, and each computation of a cycle's cost costs $O(n)$. So this algorithm costs $$O((n-1)!\\cdot n)=O(n!).$$"
      ]
    },
    {
      "cell_type": "code",
      "metadata": {
        "id": "CLFNBcV9_h4T",
        "colab_type": "code",
        "colab": {}
      },
      "source": [
        "def exhaustive_search(G):\n",
        "    n = len(G)    \n",
        "    best_cost = oo # infinity\n",
        "    best_cycle = []\n",
        "    for cycle in permutations(range(1,n)): # permutations of [1,2,...,n]\n",
        "        cycle=[0]+list(cycle)              # add the starting city: 0\n",
        "        c = cost(G, cycle)\n",
        "        if c < best_cost:\n",
        "            best_cost = c\n",
        "            best_cycle = cycle\n",
        "    return (best_cycle, best_cost)"
      ],
      "execution_count": 0,
      "outputs": []
    },
    {
      "cell_type": "markdown",
      "metadata": {
        "id": "sFiioQln_h4k",
        "colab_type": "text"
      },
      "source": [
        "## Testing"
      ]
    },
    {
      "cell_type": "code",
      "metadata": {
        "scrolled": false,
        "id": "JYAK6Oby_h4n",
        "colab_type": "code",
        "outputId": "793d6cb6-6c58-4ed6-add1-63ecbf7d99c7",
        "colab": {
          "base_uri": "https://localhost:8080/",
          "height": 85
        }
      },
      "source": [
        "pnts_n = []\n",
        "pnts_t = []\n",
        "\n",
        "n  = 8\n",
        "t0 = t1 = 0\n",
        "\n",
        "while t1-t0<1: # in seconds; if it takes too long then stop testing\n",
        "    G, avg_dist = random_symmetric_graph(n)\n",
        "    t0 = time()\n",
        "    exhaustive_search(G)\n",
        "    t1 = time()\n",
        "    # record time\n",
        "    print( f\"{n}\\t{t1-t0}\" )\n",
        "    pnts_n.append( n )\n",
        "    pnts_t.append( t1-t0 )\n",
        "    n += 1"
      ],
      "execution_count": 83,
      "outputs": [
        {
          "output_type": "stream",
          "text": [
            "8\t0.020233631134033203\n",
            "9\t0.0697476863861084\n",
            "10\t0.6618869304656982\n",
            "11\t6.521388530731201\n"
          ],
          "name": "stdout"
        }
      ]
    },
    {
      "cell_type": "markdown",
      "metadata": {
        "id": "E5PbtE-e_h45",
        "colab_type": "text"
      },
      "source": [
        "Let us plot this data to see it visually."
      ]
    },
    {
      "cell_type": "code",
      "metadata": {
        "id": "5LqCGaV6_h4_",
        "colab_type": "code",
        "outputId": "89cb9b0b-358c-4bb8-a56f-c5c1cbf198e0",
        "colab": {
          "base_uri": "https://localhost:8080/",
          "height": 265
        }
      },
      "source": [
        "plt.plot(pnts_n, pnts_t, 'ro-')\n",
        "plt.show()"
      ],
      "execution_count": 84,
      "outputs": [
        {
          "output_type": "display_data",
          "data": {
            "image/png": "[encoded data removed]",
            "text/plain": [
              "<Figure size 432x288 with 1 Axes>"
            ]
          },
          "metadata": {
            "tags": []
          }
        }
      ]
    },
    {
      "cell_type": "code",
      "metadata": {
        "id": "4n6c2Kdi_h5J",
        "colab_type": "code",
        "outputId": "7e6ed14e-dd67-4928-cd54-bd475d28a570",
        "colab": {
          "base_uri": "https://localhost:8080/",
          "height": 265
        }
      },
      "source": [
        "pnts_ratios = [pnts_t[i]/pnts_t[i-1] for i in range(1,len(pnts_n))]\n",
        "plt.plot(pnts_n[:-1], pnts_ratios, 'ro-')\n",
        "plt.plot(pnts_n,pnts_n,'b-') # theoretical ratios\n",
        "plt.show()"
      ],
      "execution_count": 85,
      "outputs": [
        {
          "output_type": "display_data",
          "data": {
            "image/png": "[encoded data removed]",
            "text/plain": [
              "<Figure size 432x288 with 1 Axes>"
            ]
          },
          "metadata": {
            "tags": []
          }
        }
      ]
    },
    {
      "cell_type": "markdown",
      "metadata": {
        "id": "p8eBO-8q_h5U",
        "colab_type": "text"
      },
      "source": [
        "### Discussion"
      ]
    },
    {
      "cell_type": "markdown",
      "metadata": {
        "id": "H6r2E2Ka_h5W",
        "colab_type": "text"
      },
      "source": [
        "* Exhaustive search exhibits combinatorial running time $O(n!)$:\n",
        "* So it is only useful/possible when $n$ is small, up to about 13 on the current machine if it needs to finish within an hour."
      ]
    },
    {
      "cell_type": "markdown",
      "metadata": {
        "id": "j5RLfqN4_h5Z",
        "colab_type": "text"
      },
      "source": [
        "# Approximation"
      ]
    },
    {
      "cell_type": "markdown",
      "metadata": {
        "id": "6gs9xiTA_h5i",
        "colab_type": "text"
      },
      "source": [
        "## Greedy search"
      ]
    },
    {
      "cell_type": "markdown",
      "metadata": {
        "id": "UOGs6g7p_h5l",
        "colab_type": "text"
      },
      "source": [
        "##### Nearest neigbours"
      ]
    },
    {
      "cell_type": "code",
      "metadata": {
        "id": "CKd5KUMu_h5v",
        "colab_type": "code",
        "colab": {}
      },
      "source": [
        "def greedy_nearest_neighbours(G):\n",
        "    H = copy.deepcopy(G) # We need the original G. We work on/modify H\n",
        "    n = len(H)\n",
        "    cities = list(range(n))\n",
        "    cycle = [] # solution to be built\n",
        "    city = 0 # Start city\n",
        "    while len(cities)>0:\n",
        "        # Find nearest neighbour\n",
        "        city_neighbours = H[city]\n",
        "        smallest_distance = min(city_neighbours)\n",
        "        nearest_city = city_neighbours.index(smallest_distance)\n",
        "        # Update 'cycle' and 'cities' and H then 'city'\n",
        "        cycle.append(city)\n",
        "        cities.remove(city)\n",
        "        for i in range(n): # 'city' is not to be used again!\n",
        "            H[city][i] = oo\n",
        "            H[i][city] = oo\n",
        "        city = nearest_city\n",
        "    return (cycle, cost(G, cycle))\n"
      ],
      "execution_count": 0,
      "outputs": []
    },
    {
      "cell_type": "markdown",
      "metadata": {
        "id": "rtaf1i5l_h5_",
        "colab_type": "text"
      },
      "source": [
        "### Example"
      ]
    },
    {
      "cell_type": "code",
      "metadata": {
        "id": "O8ehOFe5_h6C",
        "colab_type": "code",
        "outputId": "4d334375-52e3-47b6-8457-35d3b0e332ce",
        "colab": {
          "base_uri": "https://localhost:8080/",
          "height": 153
        }
      },
      "source": [
        "G, avg_dist = random_symmetric_graph(4)\n",
        "show(G)\n",
        "greedy_nearest_neighbours(G)"
      ],
      "execution_count": 87,
      "outputs": [
        {
          "output_type": "stream",
          "text": [
            "        0   1   2   3\n",
            "    -----------------\n",
            " 0 |    ∞  82  67  42\n",
            " 1 |   82   ∞  38  67\n",
            " 2 |   67  38   ∞  48\n",
            " 3 |   42  67  48   ∞\n",
            "\n"
          ],
          "name": "stdout"
        },
        {
          "output_type": "execute_result",
          "data": {
            "text/plain": [
              "([0, 3, 2, 1], 210)"
            ]
          },
          "metadata": {
            "tags": []
          },
          "execution_count": 87
        }
      ]
    },
    {
      "cell_type": "markdown",
      "metadata": {
        "id": "BlwhIupT_h6M",
        "colab_type": "text"
      },
      "source": [
        "### Test"
      ]
    },
    {
      "cell_type": "code",
      "metadata": {
        "id": "FQzAcvJS_h6Q",
        "colab_type": "code",
        "outputId": "cfd15785-f483-4d40-e6e2-697845a74aa4",
        "colab": {
          "base_uri": "https://localhost:8080/",
          "height": 136
        }
      },
      "source": [
        "MAX_REPETITIONS = 100\n",
        "\n",
        "pnts_n = []\n",
        "pnts_t = []\n",
        "pnts_q = []\n",
        "\n",
        "n = 10\n",
        "t = 0\n",
        "\n",
        "while t<10: # in seconds; if it takes too long then stop testing\n",
        "    t = 0\n",
        "    expected_cycle_length = (MAX_DISTANCE/2)*n # TODO: Better estimate?\n",
        "    sum_of_avgs = 0\n",
        "\n",
        "    sum_of_distances = 0\n",
        "    for repetitions in range(MAX_REPETITIONS):\n",
        "        G, avg_dist = random_symmetric_graph(n)\n",
        "        t0 = time()\n",
        "        cycle, c = greedy_nearest_neighbours(G)\n",
        "        t1 = time()\n",
        "\n",
        "        sum_of_avgs += (avg_dist/2)*n\n",
        "        sum_of_distances += c\n",
        "        t += t1-t0\n",
        "    # record time and quality\n",
        "    q = (sum_of_distances/MAX_REPETITIONS)/expected_cycle_length\n",
        "    q2 = sum_of_distances/sum_of_avgs\n",
        "    pnts_n.append( n )\n",
        "    pnts_t.append( t )\n",
        "    pnts_q.append( q )\n",
        "    print( f\"{n}\\t{t}\\t{q}\\t{q2}\" )\n",
        "    n *= 2"
      ],
      "execution_count": 88,
      "outputs": [
        {
          "output_type": "stream",
          "text": [
            "10\t0.016428232192993164\t0.49739999999999995\t0.21905235853419006\n",
            "20\t0.035186767578125\t0.31649\t0.0660135326803384\n",
            "40\t0.1310579776763916\t0.20483500000000002\t0.02083000716926065\n",
            "80\t0.47428178787231445\t0.122795\t0.006152643633815113\n",
            "160\t1.8414795398712158\t0.07631\t0.001900672104967114\n",
            "320\t7.280066013336182\t0.04863625\t0.00060385171227671\n",
            "640\t30.118499755859375\t0.0344909375\t0.00021372639869030456\n"
          ],
          "name": "stdout"
        }
      ]
    },
    {
      "cell_type": "code",
      "metadata": {
        "id": "XfmTwwfq_h6Y",
        "colab_type": "code",
        "outputId": "b4cad3b8-c342-4b4a-ae2c-a0b54a46236b",
        "colab": {
          "base_uri": "https://localhost:8080/",
          "height": 265
        }
      },
      "source": [
        "plt.plot(pnts_n, pnts_t, 'ro-')\n",
        "plt.show()"
      ],
      "execution_count": 89,
      "outputs": [
        {
          "output_type": "display_data",
          "data": {
            "image/png": "[encoded data removed]",
            "text/plain": [
              "<Figure size 432x288 with 1 Axes>"
            ]
          },
          "metadata": {
            "tags": []
          }
        }
      ]
    },
    {
      "cell_type": "code",
      "metadata": {
        "id": "gCxcEe_q_h6j",
        "colab_type": "code",
        "outputId": "c74ae07c-4438-4f25-84ff-175ce54a6aea",
        "colab": {
          "base_uri": "https://localhost:8080/",
          "height": 265
        }
      },
      "source": [
        "plt.plot(pnts_q, pnts_t, 'ro-')\n",
        "plt.show()"
      ],
      "execution_count": 90,
      "outputs": [
        {
          "output_type": "display_data",
          "data": {
            "image/png": "[encoded data removed]",
            "text/plain": [
              "<Figure size 432x288 with 1 Axes>"
            ]
          },
          "metadata": {
            "tags": []
          }
        }
      ]
    },
    {
      "cell_type": "markdown",
      "metadata": {
        "id": "QtHz5DNT_h6s",
        "colab_type": "text"
      },
      "source": [
        "## Metaheuristics"
      ]
    },
    {
      "cell_type": "markdown",
      "metadata": {
        "colab_type": "text",
        "id": "FLCQZRhw8pOW"
      },
      "source": [
        "## 1. Iterative Improvement"
      ]
    },
    {
      "cell_type": "markdown",
      "metadata": {
        "id": "FAoI42J_J08o",
        "colab_type": "text"
      },
      "source": [
        "### Idea\n",
        "*   Pre-computed solutions can be passed as input to avoid determining an initial solution.\n",
        "*   Neighbourhood exploration employs the 2-opt swap technique.\n",
        "*   The first improved solution is picked on each iteration. Consequently, a subset of each cycle's neighbourhood is ignored in order to speed up the exploration process, but outputs lower quality solutions.\n",
        "\n",
        "\n",
        "### Pseudocode\n",
        "**Input**: $G$, $initialCycle$, a function $cost(cycle)$ that returns $cycle$ length\n",
        "\n",
        "**Output**: local optimum path, length of the path\n",
        "\n",
        "1. $cycle\\gets initialCycle$ **or** $[1, ..., n]$\n",
        "2. **while** $cycle$ is not a local optimum **do**\n",
        "3. $\\quad$ $improvement\\gets$ first neighbour of $cycle$ such that $cost(improvement)<cost(cycle)$\n",
        "4. $\\quad$ $cycle\\gets improvement$\n",
        "5. **end while**\n",
        "6. **return** $cycle, cost(cycle)$\n",
        "\n",
        "\n",
        "### Big-O Analysis\n",
        "Given that\n",
        "*   The 2-opt swap and cost calculation take $O(n)$ time\n",
        "*   At worst, finding an improvement will require exploring all the edges, which takes $O(n^{2})$ time\n",
        "*   There are at most $2^{2n}$ different permutations of all the 2-opt swaps\n",
        "\n",
        "The worst-case complexity is\n",
        " $$O(2^{n}.n^{2}.(n+n)) = O(2^{n}.n^{3})$$\n",
        "\n"
      ]
    },
    {
      "cell_type": "code",
      "metadata": {
        "id": "tg8xA8bU_h6y",
        "colab_type": "code",
        "colab": {}
      },
      "source": [
        "def twoOptSwap(cycle, i, k):\n",
        "    new_cycle = cycle[:i]\n",
        "    new_cycle += cycle[i:k+1][::-1]\n",
        "    new_cycle += cycle[k+1:]\n",
        "    return new_cycle\n",
        "\n",
        "def iterative_improvement(G, cycle, best_distance):\n",
        "    H = copy.deepcopy(G) # We need the original G. We work on/modify H\n",
        "    n = len(H)\n",
        "    # cycle, best_distance = greedy_nearest_neighbours(H) # initial sol\n",
        "    \n",
        "    improved = True\n",
        "    while improved:\n",
        "        improved = False\n",
        "        # calculate total dist for existing route \n",
        "        best_distance = cost(H, cycle)\n",
        "\n",
        "        for i in range(0, n-2):\n",
        "            improved = False\n",
        "        \n",
        "            for k in range(i+1, n-1):\n",
        "                # new_cycle = twoOptSwap(cycle, i, k)\n",
        "                new_cycle = cycle[:i] + cycle[i:k+1][::-1] + cycle[k+1:]\n",
        "                new_distance = cost(H, new_cycle)\n",
        "                \n",
        "                if new_distance < best_distance:\n",
        "                    cycle = new_cycle\n",
        "                    best_distance = new_distance\n",
        "                    improved = True\n",
        "                    break\n",
        "            \n",
        "            if improved:\n",
        "                break\n",
        "                    \n",
        "                \n",
        "    return (cycle, best_distance)\n",
        "    "
      ],
      "execution_count": 0,
      "outputs": []
    },
    {
      "cell_type": "code",
      "metadata": {
        "id": "-F_Setzv_h67",
        "colab_type": "code",
        "outputId": "b0e3603d-3a21-4b39-9fec-8a7529efbf4f",
        "colab": {
          "base_uri": "https://localhost:8080/",
          "height": 170
        }
      },
      "source": [
        "G, _ = random_symmetric_graph(5)\n",
        "show(G)\n",
        "cycle, best_distance = greedy_nearest_neighbours(G) # initial sol\n",
        "\n",
        "iterative_improvement(G, cycle, best_distance)"
      ],
      "execution_count": 92,
      "outputs": [
        {
          "output_type": "stream",
          "text": [
            "        0   1   2   3   4\n",
            "    ---------------------\n",
            " 0 |    ∞  19  40   1  34\n",
            " 1 |   19   ∞  64  85  58\n",
            " 2 |   40  64   ∞  21  27\n",
            " 3 |    1  85  21   ∞  88\n",
            " 4 |   34  58  27  88   ∞\n",
            "\n"
          ],
          "name": "stdout"
        },
        {
          "output_type": "execute_result",
          "data": {
            "text/plain": [
              "([0, 3, 2, 4, 1], 126)"
            ]
          },
          "metadata": {
            "tags": []
          },
          "execution_count": 92
        }
      ]
    },
    {
      "cell_type": "code",
      "metadata": {
        "id": "SGHrGqpl_h7D",
        "colab_type": "code",
        "outputId": "c6cebb98-818a-48f3-c153-656cbae71b10",
        "colab": {
          "base_uri": "https://localhost:8080/",
          "height": 850
        }
      },
      "source": [
        "MAX_REPETITIONS = 1\n",
        "\n",
        "pnts_n = []\n",
        "pnts_t = []\n",
        "pnts_q = []\n",
        "\n",
        "n = 50\n",
        "t = 0\n",
        "print( f\"sz\\titer\\tNN\\tQ1\" )\n",
        "\n",
        "while t < 15: # in seconds; if it takes too long then stop testing\n",
        "    t = 0; t2 = 0\n",
        "    # expected_cycle_length = (MAX_DISTANCE/2)*n # TODO: Better estimate?\n",
        "    sum_of_distances = 0; sum_of_inits = 0\n",
        "    sum_of_avgs = 0\n",
        "    for repetitions in range(MAX_REPETITIONS):\n",
        "        G, avg_dist = random_symmetric_graph(n)\n",
        "        ti = time()\n",
        "        cycle, best_distance = greedy_nearest_neighbours(G) # initial sol\n",
        "        sum_of_inits += best_distance\n",
        "        t0 = time()\n",
        "        cycle, c = iterative_improvement(G, cycle, best_distance)\n",
        "        t1 = time()\n",
        "        sum_of_distances += c\n",
        "        sum_of_avgs += (avg_dist/2)*n\n",
        "        t += t1-t0\n",
        "        t2 += t0 - ti\n",
        "    # record time and quality\n",
        "    q = sum_of_inits / sum_of_avgs\n",
        "    qi = sum_of_distances / sum_of_avgs\n",
        "    pnts_n.append( n )\n",
        "    pnts_t.append( t )\n",
        "    pnts_q.append( q )\n",
        "    print( f\"{n}\\t{t: .2f}\\t{t2: .2f}\\t{q: .5f}\\t{qi: .5f}\" )\n",
        "    n += 5"
      ],
      "execution_count": 93,
      "outputs": [
        {
          "output_type": "stream",
          "text": [
            "sz\titer\tNN\tQ1\n",
            "50\t 0.04\t 0.00\t 0.01491\t 0.00928\n",
            "55\t 0.06\t 0.00\t 0.01029\t 0.00745\n",
            "60\t 0.04\t 0.00\t 0.00912\t 0.00727\n",
            "65\t 0.13\t 0.00\t 0.01173\t 0.00686\n",
            "70\t 0.08\t 0.00\t 0.00655\t 0.00511\n",
            "75\t 0.22\t 0.01\t 0.00738\t 0.00513\n",
            "80\t 0.18\t 0.01\t 0.00494\t 0.00348\n",
            "85\t 0.19\t 0.01\t 0.00506\t 0.00352\n",
            "90\t 0.45\t 0.01\t 0.00506\t 0.00317\n",
            "95\t 0.32\t 0.01\t 0.00387\t 0.00275\n",
            "100\t 0.44\t 0.01\t 0.00385\t 0.00272\n",
            "105\t 0.51\t 0.01\t 0.00411\t 0.00242\n",
            "110\t 0.80\t 0.01\t 0.00455\t 0.00254\n",
            "115\t 0.41\t 0.01\t 0.00260\t 0.00220\n",
            "120\t 0.59\t 0.01\t 0.00255\t 0.00192\n",
            "125\t 1.00\t 0.01\t 0.00288\t 0.00201\n",
            "130\t 0.90\t 0.01\t 0.00276\t 0.00178\n",
            "135\t 0.98\t 0.01\t 0.00220\t 0.00156\n",
            "140\t 0.53\t 0.01\t 0.00192\t 0.00163\n",
            "145\t 1.08\t 0.02\t 0.00231\t 0.00149\n",
            "150\t 1.58\t 0.02\t 0.00190\t 0.00135\n",
            "155\t 1.24\t 0.02\t 0.00172\t 0.00122\n",
            "160\t 2.44\t 0.02\t 0.00195\t 0.00123\n",
            "165\t 2.70\t 0.02\t 0.00174\t 0.00113\n",
            "170\t 1.35\t 0.02\t 0.00173\t 0.00114\n",
            "175\t 2.36\t 0.02\t 0.00153\t 0.00108\n",
            "180\t 2.31\t 0.02\t 0.00153\t 0.00108\n",
            "185\t 2.58\t 0.02\t 0.00138\t 0.00110\n",
            "190\t 5.04\t 0.02\t 0.00125\t 0.00096\n",
            "195\t 3.62\t 0.03\t 0.00123\t 0.00082\n",
            "200\t 5.20\t 0.03\t 0.00150\t 0.00096\n",
            "205\t 3.02\t 0.03\t 0.00139\t 0.00094\n",
            "210\t 3.78\t 0.03\t 0.00123\t 0.00080\n",
            "215\t 7.19\t 0.04\t 0.00116\t 0.00078\n",
            "220\t 4.41\t 0.03\t 0.00120\t 0.00074\n",
            "225\t 7.53\t 0.03\t 0.00130\t 0.00082\n",
            "230\t 5.63\t 0.04\t 0.00112\t 0.00072\n",
            "235\t 3.85\t 0.04\t 0.00088\t 0.00071\n",
            "240\t 13.32\t 0.04\t 0.00115\t 0.00066\n",
            "245\t 6.20\t 0.04\t 0.00099\t 0.00064\n",
            "250\t 9.69\t 0.04\t 0.00102\t 0.00062\n",
            "255\t 11.75\t 0.04\t 0.00097\t 0.00061\n",
            "260\t 5.27\t 0.05\t 0.00083\t 0.00058\n",
            "265\t 7.16\t 0.05\t 0.00089\t 0.00057\n",
            "270\t 8.03\t 0.05\t 0.00086\t 0.00061\n",
            "275\t 9.57\t 0.05\t 0.00075\t 0.00052\n",
            "280\t 12.84\t 0.05\t 0.00081\t 0.00053\n",
            "285\t 16.95\t 0.06\t 0.00084\t 0.00052\n"
          ],
          "name": "stdout"
        }
      ]
    },
    {
      "cell_type": "code",
      "metadata": {
        "colab_type": "code",
        "id": "3VJNeOVhxRNw",
        "outputId": "82d0e768-932e-4783-b9f3-f2c0c268a64a",
        "colab": {
          "base_uri": "https://localhost:8080/",
          "height": 266
        }
      },
      "source": [
        "plt.plot(pnts_n, pnts_t, 'ro-')\n",
        "plt.show()"
      ],
      "execution_count": 94,
      "outputs": [
        {
          "output_type": "display_data",
          "data": {
            "image/png": "[encoded data removed]",
            "text/plain": [
              "<Figure size 432x288 with 1 Axes>"
            ]
          },
          "metadata": {
            "tags": []
          }
        }
      ]
    },
    {
      "cell_type": "markdown",
      "metadata": {
        "id": "5xT-aNfX8gHk",
        "colab_type": "text"
      },
      "source": [
        "## 2. Simulated Annealing"
      ]
    },
    {
      "cell_type": "markdown",
      "metadata": {
        "id": "bwckVURV-zg9",
        "colab_type": "text"
      },
      "source": [
        "### Idea\n",
        "\n",
        "This approach builds on the iterative improvement algorithm by introducing the following mechanics:\n",
        "*   Each iteration explores a subset of the current candidate's neighbourhood and moves to the best neighbor. Since Simulated Annealing allows for fine-grained configurability, the increased computation time can be mitigated by tuning the configuration parameters.\n",
        "*   The algorithm starts with the maximum temperature and decreases it logarithmically.\n",
        "*   A computational budget is allocated for trying to escape local minima. The budget is expended once enough iterations have passed without finding an improved solution candidate. \n",
        "\n",
        "### Pseudocode\n",
        "**Input**: $G$, $maxTemperature$, $coolingFactor$, $K$\n",
        "\n",
        "**Output**: a cycle in $G$, computed cycle cost\n",
        "\n",
        "1. Determine initial candidate solution $cycle$\n",
        "2. $T\\gets maxTemperature$\n",
        "3. **while** global optimum not reached **do**\n",
        "4. $\\quad$ $next \\gets$ best neighbour of $cycle$ in $K$ optimisations\n",
        "5. $\\quad$ **if** $cost(next) < cost(cycle)$  **then**\n",
        "6. $\\qquad$ $cycle \\gets next$\n",
        "7. $\\quad$ **end if**\n",
        "8. $\\quad$ $T \\gets T$ * $coolingFactor$\n",
        "9. **end while**\n",
        "\n",
        "10. **return** $cycle, cost(cycle)$\n",
        "\n",
        "### Big-O Analysis\n",
        "Given the follwing configuration parameters:\n",
        "*   $k$ - criterion for the temperature lowering stage, represented as a computational budget \n",
        "*   $t$ - initial temperature\n",
        "\n",
        "A single Simulated Annealing iteration has polynomial time complexity:\n",
        " $$O(n.k.t)$$\n"
      ]
    },
    {
      "cell_type": "code",
      "metadata": {
        "id": "z59TnL5wt2DQ",
        "colab_type": "code",
        "colab": {}
      },
      "source": [
        "# SA constants, used for tuning the algo\n",
        "\n",
        "start_temperature = 1e2\n",
        "stop_temperature = 5.\n",
        "MAX_CYCLES = 10\n",
        "UNCHANGED_FOR_MAX = 50\n",
        "\n",
        "# temperature scheduling\n",
        "temp_dropoff = exp(log(stop_temperature / start_temperature) / (MAX_CYCLES-1))"
      ],
      "execution_count": 0,
      "outputs": []
    },
    {
      "cell_type": "code",
      "metadata": {
        "id": "kk6PwFUNuHrm",
        "colab_type": "code",
        "colab": {}
      },
      "source": [
        "def generate_cycle(G):\n",
        "    N = len(G)\n",
        "    taken = [False] * N\n",
        "    cycle = [0] * N\n",
        "\n",
        "    for i in range(N-1):\n",
        "        candidate_idx = randint(0, N-1)\n",
        "        while taken[candidate_idx]:\n",
        "            candidate_idx = randint(0, N-1)\n",
        "        \n",
        "        cycle[i] = candidate_idx\n",
        "        taken[candidate_idx] = True\n",
        "\n",
        "        if i == N-2:\n",
        "            candidate_idx = 0\n",
        "            while taken[candidate_idx]:\n",
        "                candidate_idx += 1\n",
        "\n",
        "            cycle[i+1] = candidate_idx\n",
        "\n",
        "    return (cycle, cost(G, cycle))"
      ],
      "execution_count": 0,
      "outputs": []
    },
    {
      "cell_type": "code",
      "metadata": {
        "id": "FNvhRqw5t9WO",
        "colab_type": "code",
        "colab": {}
      },
      "source": [
        "def randomize(cycle, temperature):\n",
        "    n = len(cycle) - 1\n",
        "    for _ in range(int(temperature)):\n",
        "        idx1 = randint(0, n)\n",
        "        nxt1 = (idx1+1) % (n+1)\n",
        "        idx2 = randint(0, n)\n",
        "        nxt2 = (idx2+1) % (n+1)\n",
        "\n",
        "        distance = G[cycle[idx1]][cycle[nxt1]] \\\n",
        "                 + G[cycle[idx2]][cycle[nxt2]] \\\n",
        "                 - G[cycle[idx1]][cycle[idx2]] \\\n",
        "                 - G[cycle[nxt1]][cycle[nxt2]]\n",
        "        if distance > 0:\n",
        "            # sort indices in ascending order\n",
        "            if idx2 < idx1:\n",
        "                idx1, idx2 = idx2, idx1\n",
        "                nxt1, nxt2 = nxt2, nxt1\n",
        "            cycle = cycle[:nxt1] + cycle[nxt1:idx2][::-1] + cycle[idx2:]\n",
        "\n",
        "    return cycle"
      ],
      "execution_count": 0,
      "outputs": []
    },
    {
      "cell_type": "code",
      "metadata": {
        "colab_type": "code",
        "id": "8Yoj9MDE-Zo9",
        "colab": {}
      },
      "source": [
        "def sa_iteration(G, cycle, best_distance):\n",
        "    # set initial temp\n",
        "    temperature = start_temperature\n",
        "\n",
        "    crt_cycle = copy.deepcopy(cycle)\n",
        "    for _ in range(MAX_CYCLES):\n",
        "        new_cycle = randomize(crt_cycle, temperature)\n",
        "        new_distance = cost(G, new_cycle)\n",
        "        \n",
        "        if new_distance < best_distance:\n",
        "            cycle = new_cycle\n",
        "            best_distance = new_distance\n",
        "\n",
        "        temperature *= temp_dropoff\n",
        "\n",
        "    return (cycle, best_distance)"
      ],
      "execution_count": 0,
      "outputs": []
    },
    {
      "cell_type": "code",
      "metadata": {
        "id": "cAYNKqkw0ByR",
        "colab_type": "code",
        "colab": {}
      },
      "source": [
        "def simulated_annealing(G, cycle = None, best_distance = None):\n",
        "    cycle = cycle or list(range(len(G)))\n",
        "    best_distance = best_distance or cost(G, cycle)\n",
        "\n",
        "    distance = best_distance - 1\n",
        "\n",
        "    # iterate until a local minimum is found\n",
        "    unchanged_for = 0\n",
        "    while unchanged_for < UNCHANGED_FOR_MAX:\n",
        "        if best_distance == distance:\n",
        "            unchanged_for += 1\n",
        "        else:\n",
        "            distance = best_distance\n",
        "            unchanged_for = 0\n",
        "            cycle, best_distance = sa_iteration(G, cycle, distance)\n",
        "    \n",
        "    return (cycle, best_distance)"
      ],
      "execution_count": 0,
      "outputs": []
    },
    {
      "cell_type": "code",
      "metadata": {
        "colab_type": "code",
        "id": "7CC8dw7Ahwnl",
        "outputId": "c14f430c-061d-4a5f-9af3-402d697a75e2",
        "colab": {
          "base_uri": "https://localhost:8080/",
          "height": 170
        }
      },
      "source": [
        "G, _ = random_symmetric_graph(5)\n",
        "show(G)\n",
        "cycle, best_distance = greedy_nearest_neighbours(G) # initial sol\n",
        "\n",
        "simulated_annealing(G)"
      ],
      "execution_count": 100,
      "outputs": [
        {
          "output_type": "stream",
          "text": [
            "        0   1   2   3   4\n",
            "    ---------------------\n",
            " 0 |    ∞  41  85  69   7\n",
            " 1 |   41   ∞  46  62  35\n",
            " 2 |   85  46   ∞  30  39\n",
            " 3 |   69  62  30   ∞  90\n",
            " 4 |    7  35  39  90   ∞\n",
            "\n"
          ],
          "name": "stdout"
        },
        {
          "output_type": "execute_result",
          "data": {
            "text/plain": [
              "([0, 1, 2, 3, 4], 214)"
            ]
          },
          "metadata": {
            "tags": []
          },
          "execution_count": 100
        }
      ]
    },
    {
      "cell_type": "markdown",
      "metadata": {
        "colab_type": "text",
        "id": "_bHUWJVe826c"
      },
      "source": [
        "# Conclusion"
      ]
    },
    {
      "cell_type": "code",
      "metadata": {
        "colab_type": "code",
        "id": "Fyld7L60kgol",
        "outputId": "94d91a17-40bc-4bc0-efdf-e7ddc52c362f",
        "colab": {
          "base_uri": "https://localhost:8080/",
          "height": 170
        }
      },
      "source": [
        "MAX_REPETITIONS = 100\n",
        "\n",
        "pnts_n = []\n",
        "pnts_t = []; pnts_t_sa = []\n",
        "pnts_q = []; pnts_q_sa = []\n",
        "\n",
        "n = 50\n",
        "t = 0\n",
        "print( f\"sz\\titer\\tNN\\tQ1\" )\n",
        "\n",
        "while t < 10: # in seconds; if it takes too long then stop testing\n",
        "    t = t_iter = t_sa = 0\n",
        "    sum_of_distances = sum_of_inits = sum_of_sa = 0\n",
        "    sum_of_avgs = 0\n",
        "    for repetitions in range(MAX_REPETITIONS):\n",
        "        G, avg_dist = random_symmetric_graph(n)\n",
        "        ti = time()\n",
        "        cycle, best_distance = greedy_nearest_neighbours(G) # initial sol\n",
        "        sum_of_inits += best_distance\n",
        "        t0 = time()\n",
        "        # _, c = iterative_improvement(G, cycle, best_distance)\n",
        "        t1 = time()\n",
        "        _, sa = simulated_annealing(G)\n",
        "        t2 = time()\n",
        "        sum_of_distances += c\n",
        "        sum_of_sa += sa\n",
        "        sum_of_avgs += (avg_dist/2)*n\n",
        "        t_sa += t2 - t1\n",
        "        # t_iter += t1-t0\n",
        "        t += t0 - ti\n",
        "    # record time and quality\n",
        "    q = sum_of_inits / sum_of_avgs\n",
        "    # qi = sum_of_distances / sum_of_avgs\n",
        "    q_sa = sum_of_sa / sum_of_avgs\n",
        "    pnts_n.append( n )\n",
        "    pnts_t.append( t )\n",
        "    pnts_t_sa.append( t_sa )\n",
        "    pnts_q.append( q )\n",
        "    pnts_q_sa.append( q_sa )\n",
        "    # print( f\"{n}\\t{t: .2f}\\t{t_iter: .2f}\\t{t_sa: .2f}\\t{q: .5f}\\t{qi: .5f}\\t{q_sa: .5f}\" )\n",
        "    print( f\"{n}\\t{t: .2f}\\t{t_sa: .2f}\\t{q: .5f}\\t{q_sa: .5f}\" )\n",
        "    n += 50"
      ],
      "execution_count": 101,
      "outputs": [
        {
          "output_type": "stream",
          "text": [
            "sz\titer\tNN\tQ1\n",
            "50\t 0.20\t 0.88\t 0.01399\t 0.04928\n",
            "100\t 0.72\t 1.38\t 0.00422\t 0.02559\n",
            "150\t 1.59\t 1.94\t 0.00211\t 0.01762\n",
            "200\t 2.83\t 2.64\t 0.00130\t 0.01330\n",
            "250\t 4.38\t 3.27\t 0.00091\t 0.01079\n",
            "300\t 6.43\t 3.76\t 0.00068\t 0.00928\n",
            "350\t 8.76\t 5.01\t 0.00054\t 0.00782\n",
            "400\t 13.09\t 6.87\t 0.00043\t 0.00704\n"
          ],
          "name": "stdout"
        }
      ]
    },
    {
      "cell_type": "code",
      "metadata": {
        "id": "Uaraa8hI9NvY",
        "colab_type": "code",
        "outputId": "1e1150af-933f-4968-dc08-b0b1dad94786",
        "colab": {
          "base_uri": "https://localhost:8080/",
          "height": 513
        }
      },
      "source": [
        "plt.plot(pnts_n, pnts_t, 'ro-')\n",
        "plt.plot(pnts_n, pnts_t_sa, 'b-')\n",
        "plt.show()\n",
        "plt.plot(pnts_n, pnts_q, 'ro-')\n",
        "plt.plot(pnts_n, pnts_q_sa, 'b-')\n",
        "plt.show()"
      ],
      "execution_count": 102,
      "outputs": [
        {
          "output_type": "display_data",
          "data": {
            "image/png": "[encoded data removed]",
            "text/plain": [
              "<Figure size 432x288 with 1 Axes>"
            ]
          },
          "metadata": {
            "tags": []
          }
        },
        {
          "output_type": "display_data",
          "data": {
            "image/png": "[encoded data removed]",
            "text/plain": [
              "<Figure size 432x288 with 1 Axes>"
            ]
          },
          "metadata": {
            "tags": []
          }
        }
      ]
    },
    {
      "cell_type": "markdown",
      "metadata": {
        "id": "fivJOY5P9G0U",
        "colab_type": "text"
      },
      "source": [
        "**Clear, brief and precise practical recommendations on\n",
        "which algorithms to use when, based on your computational experiments.**"
      ]
    },
    {
      "cell_type": "markdown",
      "metadata": {
        "colab_type": "text",
        "id": "1VC1T3uv9F9n"
      },
      "source": [
        "# References"
      ]
    },
    {
      "cell_type": "markdown",
      "metadata": {
        "id": "1KpjFtyp_h7P",
        "colab_type": "text"
      },
      "source": [
        "* Garey, S. and Johnson, D. (1979)\n",
        "**Computers and Intractability: A Guide to the Theory of NP-Completeness.**\n",
        "Freeman.\n",
        "\n",
        "* Hoos, H. and Stutzler, T. (2005)\n",
        "**Stochastic Local Search: Foundations and Applications.**\n",
        "Morgan Kaufmann.\n",
        "\n",
        "* Sipser, M. (2013).\n",
        "**Introduction to the theory of computation**\n",
        "(3rd international ed.). Cengage Learning."
      ]
    },
    {
      "cell_type": "code",
      "metadata": {
        "id": "DZoZtrMI_h7S",
        "colab_type": "code",
        "outputId": "4c4ecad8-dfcf-42e9-a830-38bac893ce71",
        "colab": {
          "base_uri": "https://localhost:8080/",
          "height": 363
        }
      },
      "source": [
        "URL = \"https://raw.githubusercontent.com/driimus/380ct/master/eil101.xml?token=AJZHHXZHAZXDJXF2OOF6X4C6TCIOQ\"\n",
        "\n",
        "from google.colab import files\n",
        "uploaded = files.upload()"
      ],
      "execution_count": 103,
      "outputs": [
        {
          "output_type": "display_data",
          "data": {
            "text/html": [
              "\n",
              "     <input type=\"file\" id=\"files-8c125cd6-d492-4b08-9d9a-8569a8df53d3\" name=\"files[]\" multiple disabled />\n",
              "     <output id=\"result-8c125cd6-d492-4b08-9d9a-8569a8df53d3\">\n",
              "      Upload widget is only available when the cell has been executed in the\n",
              "      current browser session. Please rerun this cell to enable.\n",
              "      </output>\n",
              "      <script src=\"/nbextensions/google.colab/files.js\"></script> "
            ],
            "text/plain": [
              "<IPython.core.display.HTML object>"
            ]
          },
          "metadata": {
            "tags": []
          }
        },
        {
          "output_type": "error",
          "ename": "MessageError",
          "evalue": "ignored",
          "traceback": [
            "\u001b[0;31m---------------------------------------------------------------------------\u001b[0m",
            "\u001b[0;31mMessageError\u001b[0m                              Traceback (most recent call last)",
            "\u001b[0;32m<ipython-input-103-d2ef696c7261>\u001b[0m in \u001b[0;36m<module>\u001b[0;34m()\u001b[0m\n\u001b[1;32m      2\u001b[0m \u001b[0;34m\u001b[0m\u001b[0m\n\u001b[1;32m      3\u001b[0m \u001b[0;32mfrom\u001b[0m \u001b[0mgoogle\u001b[0m\u001b[0;34m.\u001b[0m\u001b[0mcolab\u001b[0m \u001b[0;32mimport\u001b[0m \u001b[0mfiles\u001b[0m\u001b[0;34m\u001b[0m\u001b[0;34m\u001b[0m\u001b[0m\n\u001b[0;32m----> 4\u001b[0;31m \u001b[0muploaded\u001b[0m \u001b[0;34m=\u001b[0m \u001b[0mfiles\u001b[0m\u001b[0;34m.\u001b[0m\u001b[0mupload\u001b[0m\u001b[0;34m(\u001b[0m\u001b[0;34m)\u001b[0m\u001b[0;34m\u001b[0m\u001b[0;34m\u001b[0m\u001b[0m\n\u001b[0m",
            "\u001b[0;32m/usr/local/lib/python3.6/dist-packages/google/colab/files.py\u001b[0m in \u001b[0;36mupload\u001b[0;34m()\u001b[0m\n\u001b[1;32m     62\u001b[0m   result = _output.eval_js(\n\u001b[1;32m     63\u001b[0m       'google.colab._files._uploadFiles(\"{input_id}\", \"{output_id}\")'.format(\n\u001b[0;32m---> 64\u001b[0;31m           input_id=input_id, output_id=output_id))\n\u001b[0m\u001b[1;32m     65\u001b[0m   \u001b[0mfiles\u001b[0m \u001b[0;34m=\u001b[0m \u001b[0m_collections\u001b[0m\u001b[0;34m.\u001b[0m\u001b[0mdefaultdict\u001b[0m\u001b[0;34m(\u001b[0m\u001b[0m_six\u001b[0m\u001b[0;34m.\u001b[0m\u001b[0mbinary_type\u001b[0m\u001b[0;34m)\u001b[0m\u001b[0;34m\u001b[0m\u001b[0;34m\u001b[0m\u001b[0m\n\u001b[1;32m     66\u001b[0m   \u001b[0;31m# Mapping from original filename to filename as saved locally.\u001b[0m\u001b[0;34m\u001b[0m\u001b[0;34m\u001b[0m\u001b[0;34m\u001b[0m\u001b[0m\n",
            "\u001b[0;32m/usr/local/lib/python3.6/dist-packages/google/colab/output/_js.py\u001b[0m in \u001b[0;36meval_js\u001b[0;34m(script, ignore_result)\u001b[0m\n\u001b[1;32m     37\u001b[0m   \u001b[0;32mif\u001b[0m \u001b[0mignore_result\u001b[0m\u001b[0;34m:\u001b[0m\u001b[0;34m\u001b[0m\u001b[0;34m\u001b[0m\u001b[0m\n\u001b[1;32m     38\u001b[0m     \u001b[0;32mreturn\u001b[0m\u001b[0;34m\u001b[0m\u001b[0;34m\u001b[0m\u001b[0m\n\u001b[0;32m---> 39\u001b[0;31m   \u001b[0;32mreturn\u001b[0m \u001b[0m_message\u001b[0m\u001b[0;34m.\u001b[0m\u001b[0mread_reply_from_input\u001b[0m\u001b[0;34m(\u001b[0m\u001b[0mrequest_id\u001b[0m\u001b[0;34m)\u001b[0m\u001b[0;34m\u001b[0m\u001b[0;34m\u001b[0m\u001b[0m\n\u001b[0m\u001b[1;32m     40\u001b[0m \u001b[0;34m\u001b[0m\u001b[0m\n\u001b[1;32m     41\u001b[0m \u001b[0;34m\u001b[0m\u001b[0m\n",
            "\u001b[0;32m/usr/local/lib/python3.6/dist-packages/google/colab/_message.py\u001b[0m in \u001b[0;36mread_reply_from_input\u001b[0;34m(message_id, timeout_sec)\u001b[0m\n\u001b[1;32m    104\u001b[0m         reply.get('colab_msg_id') == message_id):\n\u001b[1;32m    105\u001b[0m       \u001b[0;32mif\u001b[0m \u001b[0;34m'error'\u001b[0m \u001b[0;32min\u001b[0m \u001b[0mreply\u001b[0m\u001b[0;34m:\u001b[0m\u001b[0;34m\u001b[0m\u001b[0;34m\u001b[0m\u001b[0m\n\u001b[0;32m--> 106\u001b[0;31m         \u001b[0;32mraise\u001b[0m \u001b[0mMessageError\u001b[0m\u001b[0;34m(\u001b[0m\u001b[0mreply\u001b[0m\u001b[0;34m[\u001b[0m\u001b[0;34m'error'\u001b[0m\u001b[0;34m]\u001b[0m\u001b[0;34m)\u001b[0m\u001b[0;34m\u001b[0m\u001b[0;34m\u001b[0m\u001b[0m\n\u001b[0m\u001b[1;32m    107\u001b[0m       \u001b[0;32mreturn\u001b[0m \u001b[0mreply\u001b[0m\u001b[0;34m.\u001b[0m\u001b[0mget\u001b[0m\u001b[0;34m(\u001b[0m\u001b[0;34m'data'\u001b[0m\u001b[0;34m,\u001b[0m \u001b[0;32mNone\u001b[0m\u001b[0;34m)\u001b[0m\u001b[0;34m\u001b[0m\u001b[0;34m\u001b[0m\u001b[0m\n\u001b[1;32m    108\u001b[0m \u001b[0;34m\u001b[0m\u001b[0m\n",
            "\u001b[0;31mMessageError\u001b[0m: TypeError: Cannot read property '_uploadFiles' of undefined"
          ]
        }
      ]
    },
    {
      "cell_type": "code",
      "metadata": {
        "id": "8dGG6EsW7sdy",
        "colab_type": "code",
        "outputId": "b1810a95-6318-4139-e133-1bed210b620e",
        "colab": {
          "base_uri": "https://localhost:8080/",
          "height": 88
        }
      },
      "source": [
        "import pandas as pd \n",
        "import xml.etree.ElementTree as et \n",
        "\n",
        "def fileParser(file):\n",
        "  xtree = et.parse(file)\n",
        "  xroot = xtree.getroot()\n",
        "  graph=[]\n",
        "  i=0\n",
        "  for vertex in xroot.find('graph'):\n",
        "    temp=[]\n",
        "    for edge in vertex:\n",
        "      temp.append(float(edge.get('cost')))\n",
        "    temp.insert(i, oo)\n",
        "    i += 1\n",
        "    graph.append(temp)\n",
        "  \n",
        "  return graph\n",
        "\n",
        "names=[\"GNN\", \"II\", \"SA\"]"
      ],
      "execution_count": 104,
      "outputs": [
        {
          "output_type": "stream",
          "text": [
            "825.2423227277447\n",
            "II ([56, 1, 72, 20, 71, 73, 74, 55, 38, 3, 53, 79, 67, 76, 2, 78, 32, 80, 8, 50, 49, 75, 11, 25, 39, 27, 0, 68, 26, 100, 52, 57, 12, 86, 41, 14, 42, 13, 43, 37, 85, 15, 60, 84, 90, 99, 36, 97, 92, 98, 95, 58, 91, 96, 94, 93, 5, 88, 51, 17, 82, 59, 4, 83, 16, 44, 7, 45, 46, 35, 48, 18, 10, 63, 62, 89, 31, 9, 61, 47, 81, 6, 87, 30, 69, 29, 19, 65, 64, 70, 34, 33, 77, 28, 23, 54, 24, 66, 22, 21, 40], 683.3021657609505)\n",
            "SA ([0, 1, 2, 3, 4, 5, 6, 7, 8, 9, 10, 11, 12, 13, 14, 15, 16, 17, 18, 19, 20, 21, 22, 23, 24, 25, 26, 27, 28, 29, 30, 31, 32, 33, 34, 35, 36, 37, 38, 39, 40, 41, 42, 43, 44, 45, 46, 47, 48, 49, 50, 51, 52, 53, 54, 55, 56, 57, 58, 59, 60, 61, 62, 63, 64, 65, 66, 67, 68, 69, 70, 71, 72, 73, 74, 75, 76, 77, 78, 79, 80, 81, 82, 83, 84, 85, 86, 87, 88, 89, 90, 91, 92, 93, 94, 95, 96, 97, 98, 99, 100], 2064.4870215590863)\n"
          ],
          "name": "stdout"
        }
      ]
    },
    {
      "cell_type": "code",
      "metadata": {
        "id": "T6SGAhyt6a_6",
        "colab_type": "code",
        "colab": {}
      },
      "source": [
        ""
      ],
      "execution_count": 0,
      "outputs": []
    },
    {
      "cell_type": "code",
      "metadata": {
        "id": "rgY0KsdLrZ3m",
        "colab_type": "code",
        "colab": {
          "base_uri": "https://localhost:8080/",
          "height": 233
        },
        "outputId": "8ad3531a-332b-4d35-a7d2-14fc38824ebb"
      },
      "source": [
        "graph76 = fileParser(\"eil76.xml\")\n",
        "\n",
        "# #Graph76\n",
        "Opt_Sol = 538\n",
        "t0 = time()\n",
        "cycle, best_distance = greedy_nearest_neighbours(graph76)\n",
        "t1 = time()\n",
        "gnntime = t1-t0\n",
        "GNN=best_distance\n",
        "t0= time()\n",
        "_, IIdistance = iterative_improvement(graph76, cycle, best_distance)\n",
        "t1= time()\n",
        "iitime = t1-t0\n",
        "t0=time()\n",
        "_, SAdistance = simulated_annealing(graph76, cycle, best_distance)\n",
        "t1=time()\n",
        "satime=t1-t0\n",
        "\n",
        "values=[Opt_Sol/GNN, Opt_Sol/IIdistance, Opt_Sol/SAdistance]\n",
        "valuesTime=[gnntime, iitime, satime]\n",
        "\n",
        "fig, ax= plt.subplots(1, 2, figsize=(9,3), sharey=False)\n",
        "ax[0].bar(names, values)\n",
        "ax[1].scatter(names, valuesTime)\n",
        "fig.suptitle('Test Accuraccy/ Running Time')\n",
        "\n",
        "fig.show()"
      ],
      "execution_count": 120,
      "outputs": [
        {
          "output_type": "display_data",
          "data": {
            "image/png": "[encoded data removed]",
            "text/plain": [
              "<Figure size 648x216 with 2 Axes>"
            ]
          },
          "metadata": {
            "tags": []
          }
        }
      ]
    },
    {
      "cell_type": "code",
      "metadata": {
        "id": "YzbKckSo5L7I",
        "colab_type": "code",
        "colab": {
          "base_uri": "https://localhost:8080/",
          "height": 233
        },
        "outputId": "44e5a68d-c0e7-4c9f-dba2-39af77a1dbf8"
      },
      "source": [
        "graph130 = fileParser(\"ch130.xml\")\n",
        "\n",
        "# #Graph130\n",
        "Opt_Sol = 6110\n",
        "t0 = time()\n",
        "cycle, best_distance = greedy_nearest_neighbours(graph130)\n",
        "t1 = time()\n",
        "gnntime = t1-t0\n",
        "GNN=best_distance\n",
        "t0= time()\n",
        "_, IIdistance = iterative_improvement(graph130, cycle, best_distance)\n",
        "t1= time()\n",
        "iitime = t1-t0\n",
        "t0=time()\n",
        "_, SAdistance = simulated_annealing(graph130, cycle, best_distance)\n",
        "t1=time()\n",
        "satime=t1-t0\n",
        "\n",
        "values=[Opt_Sol/GNN, Opt_Sol/IIdistance, Opt_Sol/SAdistance]\n",
        "valuesTime=[gnntime, iitime, satime]\n",
        "\n",
        "fig, ax= plt.subplots(1, 2, figsize=(9,3), sharey=False)\n",
        "ax[0].bar(names, values)\n",
        "ax[1].scatter(names, valuesTime)\n",
        "fig.suptitle('Test Accuraccy/ Running Time')\n",
        "\n",
        "fig.show()"
      ],
      "execution_count": 122,
      "outputs": [
        {
          "output_type": "display_data",
          "data": {
            "image/png": "[encoded data removed]",
            "text/plain": [
              "<Figure size 648x216 with 2 Axes>"
            ]
          },
          "metadata": {
            "tags": []
          }
        }
      ]
    },
    {
      "cell_type": "code",
      "metadata": {
        "id": "WIzY_AxK5nBW",
        "colab_type": "code",
        "colab": {
          "base_uri": "https://localhost:8080/",
          "height": 233
        },
        "outputId": "b1617f52-d08a-42ed-a6e3-49316af7c77c"
      },
      "source": [
        "graph150 = fileParser(\"kroA150.xml\")\n",
        "\n",
        "# #Graph150\n",
        "Opt_Sol = 26524\n",
        "t0 = time()\n",
        "cycle, best_distance = greedy_nearest_neighbours(graph150)\n",
        "t1 = time()\n",
        "gnntime = t1-t0\n",
        "GNN=best_distance\n",
        "t0= time()\n",
        "_, IIdistance = iterative_improvement(graph150, cycle, best_distance)\n",
        "t1= time()\n",
        "iitime = t1-t0\n",
        "t0=time()\n",
        "_, SAdistance = simulated_annealing(graph150, cycle, best_distance)\n",
        "t1=time()\n",
        "satime=t1-t0\n",
        "\n",
        "values=[Opt_Sol/GNN, Opt_Sol/IIdistance, Opt_Sol/SAdistance]\n",
        "valuesTime=[gnntime, iitime, satime]\n",
        "\n",
        "fig, ax= plt.subplots(1, 2, figsize=(9,3), sharey=False)\n",
        "ax[0].bar(names, values)\n",
        "ax[1].scatter(names, valuesTime)\n",
        "fig.suptitle('Test Accuraccy/ Running Time')\n",
        "\n",
        "fig.show()"
      ],
      "execution_count": 123,
      "outputs": [
        {
          "output_type": "display_data",
          "data": {
            "image/png": "[encoded data removed]",
            "text/plain": [
              "<Figure size 648x216 with 2 Axes>"
            ]
          },
          "metadata": {
            "tags": []
          }
        }
      ]
    },
    {
      "cell_type": "code",
      "metadata": {
        "id": "-L-XGxFu59Vn",
        "colab_type": "code",
        "colab": {
          "base_uri": "https://localhost:8080/",
          "height": 233
        },
        "outputId": "3245f2cc-f0a2-453f-f722-b05d042771ab"
      },
      "source": [
        "graph299= fileParser(\"pr299.xml\")\n",
        "\n",
        "# #Graph299\n",
        "Opt_Sol = 48191\n",
        "t0 = time()\n",
        "cycle, best_distance = greedy_nearest_neighbours(graph299)\n",
        "t1 = time()\n",
        "gnntime = t1-t0\n",
        "GNN=best_distance\n",
        "t0= time()\n",
        "_, IIdistance = iterative_improvement(graph299, cycle, best_distance)\n",
        "t1= time()\n",
        "iitime = t1-t0\n",
        "t0=time()\n",
        "_, SAdistance = simulated_annealing(graph299, cycle, best_distance)\n",
        "t1=time()\n",
        "satime=t1-t0\n",
        "\n",
        "values=[Opt_Sol/GNN, Opt_Sol/IIdistance, Opt_Sol/SAdistance]\n",
        "valuesTime=[gnntime, iitime, satime]\n",
        "\n",
        "fig, ax= plt.subplots(1, 2, figsize=(9,3), sharey=False)\n",
        "ax[0].bar(names, values)\n",
        "ax[1].scatter(names, valuesTime)\n",
        "fig.suptitle('Test Accuraccy/ Running Time')\n",
        "\n",
        "fig.show()"
      ],
      "execution_count": 124,
      "outputs": [
        {
          "output_type": "display_data",
          "data": {
            "image/png": "[encoded data removed]",
            "text/plain": [
              "<Figure size 648x216 with 2 Axes>"
            ]
          },
          "metadata": {
            "tags": []
          }
        }
      ]
    },
    {
      "cell_type": "code",
      "metadata": {
        "id": "tj-d3tCg6fcd",
        "colab_type": "code",
        "colab": {
          "base_uri": "https://localhost:8080/",
          "height": 233
        },
        "outputId": "ba6ad77c-dee4-4190-a347-3bc77fc135aa"
      },
      "source": [
        "graph400 = fileParser(\"rd400.xml\")\n",
        "\n",
        "# #Graph400\n",
        "Opt_Sol = 15281\n",
        "t0 = time()\n",
        "cycle, best_distance = greedy_nearest_neighbours(graph400)\n",
        "t1 = time()\n",
        "gnntime = t1-t0\n",
        "GNN=best_distance\n",
        "t0= time()\n",
        "_, IIdistance = iterative_improvement(graph400, cycle, best_distance)\n",
        "t1= time()\n",
        "iitime = t1-t0\n",
        "t0=time()\n",
        "_, SAdistance = simulated_annealing(graph400, cycle, best_distance)\n",
        "t1=time()\n",
        "satime=t1-t0\n",
        "\n",
        "values=[Opt_Sol/GNN, Opt_Sol/IIdistance, Opt_Sol/SAdistance]\n",
        "valuesTime=[gnntime, iitime, satime]\n",
        "\n",
        "fig, ax= plt.subplots(1, 2, figsize=(9,3), sharey=False)\n",
        "ax[0].bar(names, values)\n",
        "ax[1].scatter(names, valuesTime)\n",
        "fig.suptitle('Test Accuraccy/ Running Time')\n",
        "\n",
        "fig.show()"
      ],
      "execution_count": 125,
      "outputs": [
        {
          "output_type": "display_data",
          "data": {
            "image/png": "[encoded data removed]",
            "text/plain": [
              "<Figure size 648x216 with 2 Axes>"
            ]
          },
          "metadata": {
            "tags": []
          }
        }
      ]
    },
    {
      "cell_type": "code",
      "metadata": {
        "id": "FW3IrgwO6yls",
        "colab_type": "code",
        "colab": {
          "base_uri": "https://localhost:8080/",
          "height": 233
        },
        "outputId": "ab58ae5e-36f2-4940-ddb2-a821ee688f4a"
      },
      "source": [
        "graph159 = fileParser(\"u159.xml\")\n",
        "\n",
        "# #Graph159\n",
        "Opt_Sol = 42080\n",
        "t0 = time()\n",
        "cycle, best_distance = greedy_nearest_neighbours(graph159)\n",
        "t1 = time()\n",
        "gnntime = t1-t0\n",
        "GNN=best_distance\n",
        "t0= time()\n",
        "_, IIdistance = iterative_improvement(graph159, cycle, best_distance)\n",
        "t1= time()\n",
        "iitime = t1-t0\n",
        "t0=time()\n",
        "_, SAdistance = simulated_annealing(graph159, cycle, best_distance)\n",
        "t1=time()\n",
        "satime=t1-t0\n",
        "\n",
        "values=[Opt_Sol/GNN, Opt_Sol/IIdistance, Opt_Sol/SAdistance]\n",
        "valuesTime=[gnntime, iitime, satime]\n",
        "\n",
        "fig, ax= plt.subplots(1, 2, figsize=(9,3), sharey=False)\n",
        "ax[0].bar(names, values)\n",
        "ax[1].scatter(names, valuesTime)\n",
        "fig.suptitle('Test Accuraccy/ Running Time')\n",
        "\n",
        "fig.show()"
      ],
      "execution_count": 126,
      "outputs": [
        {
          "output_type": "display_data",
          "data": {
            "image/png": "[encoded data removed]",
            "text/plain": [
              "<Figure size 648x216 with 2 Axes>"
            ]
          },
          "metadata": {
            "tags": []
          }
        }
      ]
    },
    {
      "cell_type": "code",
      "metadata": {
        "id": "FKfrvEuA6-1J",
        "colab_type": "code",
        "colab": {
          "base_uri": "https://localhost:8080/",
          "height": 233
        },
        "outputId": "6fd7ade9-0c18-4fee-ee56-abc1a57ca9c2"
      },
      "source": [
        "graph101 = fileParser(\"eil101.xml\")\n",
        "\n",
        "# #Graph101\n",
        "Opt_Sol = 629\n",
        "t0 = time()\n",
        "cycle, best_distance = greedy_nearest_neighbours(graph101)\n",
        "t1 = time()\n",
        "gnntime = t1-t0\n",
        "GNN=best_distance\n",
        "t0= time()\n",
        "_, IIdistance = iterative_improvement(graph101, cycle, best_distance)\n",
        "t1= time()\n",
        "iitime = t1-t0\n",
        "t0=time()\n",
        "_, SAdistance = simulated_annealing(graph101, cycle, best_distance)\n",
        "t1=time()\n",
        "satime=t1-t0\n",
        "\n",
        "values=[Opt_Sol/GNN, Opt_Sol/IIdistance, Opt_Sol/SAdistance]\n",
        "valuesTime=[gnntime, iitime, satime]\n",
        "\n",
        "fig, ax= plt.subplots(1, 2, figsize=(9,3), sharey=False)\n",
        "ax[0].bar(names, values)\n",
        "ax[1].scatter(names, valuesTime)\n",
        "fig.suptitle('Test Accuraccy/ Running Time')\n",
        "\n",
        "fig.show()"
      ],
      "execution_count": 127,
      "outputs": [
        {
          "output_type": "display_data",
          "data": {
            "image/png": "[encoded data removed]",
            "text/plain": [
              "<Figure size 648x216 with 2 Axes>"
            ]
          },
          "metadata": {
            "tags": []
          }
        }
      ]
    },
    {
      "cell_type": "code",
      "metadata": {
        "id": "3q9iSZoH7Ktb",
        "colab_type": "code",
        "colab": {
          "base_uri": "https://localhost:8080/",
          "height": 233
        },
        "outputId": "ae22deb1-4c34-4661-bdf7-4e224014a90c"
      },
      "source": [
        "graph100 = fileParser(\"rd100.xml\")\n",
        "\n",
        "# #Graph100\n",
        "Opt_Sol = 7910\n",
        "t0 = time()\n",
        "cycle, best_distance = greedy_nearest_neighbours(graph100)\n",
        "t1 = time()\n",
        "gnntime = t1-t0\n",
        "GNN=best_distance\n",
        "t0= time()\n",
        "_, IIdistance = iterative_improvement(graph100, cycle, best_distance)\n",
        "t1= time()\n",
        "iitime = t1-t0\n",
        "t0=time()\n",
        "_, SAdistance = simulated_annealing(graph100, cycle, best_distance)\n",
        "t1=time()\n",
        "satime=t1-t0\n",
        "\n",
        "values=[Opt_Sol/GNN, Opt_Sol/IIdistance, Opt_Sol/SAdistance]\n",
        "valuesTime=[gnntime, iitime, satime]\n",
        "\n",
        "fig, ax= plt.subplots(1, 2, figsize=(9,3), sharey=False)\n",
        "ax[0].bar(names, values)\n",
        "ax[1].scatter(names, valuesTime)\n",
        "fig.suptitle('Test Accuraccy/ Running Time')\n",
        "\n",
        "fig.show()"
      ],
      "execution_count": 128,
      "outputs": [
        {
          "output_type": "display_data",
          "data": {
            "image/png": "[encoded data removed]",
            "text/plain": [
              "<Figure size 648x216 with 2 Axes>"
            ]
          },
          "metadata": {
            "tags": []
          }
        }
      ]
    },
    {
      "cell_type": "markdown",
      "metadata": {
        "id": "XzH097rA5KKz",
        "colab_type": "text"
      },
      "source": [
        ""
      ]
    }
  ]
}