{
  "nbformat": 4,
  "nbformat_minor": 0,
  "metadata": {
    "kernelspec": {
      "display_name": "Python 3",
      "language": "python",
      "name": "python3"
    },
    "language_info": {
      "codemirror_mode": {
        "name": "ipython",
        "version": 3
      },
      "file_extension": ".py",
      "mimetype": "text/x-python",
      "name": "python",
      "nbconvert_exporter": "python",
      "pygments_lexer": "ipython3",
      "version": "3.7.4"
    },
    "colab": {
      "name": "Investigating+TSP.ipynb",
      "provenance": [],
      "collapsed_sections": [],
      "include_colab_link": true
    }
  },
  "cells": [
    {
      "cell_type": "markdown",
      "metadata": {
        "id": "view-in-github",
        "colab_type": "text"
      },
      "source": [
        "<a href=\"https://colab.research.google.com/github/driimus/380ct/blob/master/Investigating%2BTSP.ipynb\" target=\"_parent\"><img src=\"https://colab.research.google.com/assets/colab-badge.svg\" alt=\"Open In Colab\"/></a>"
      ]
    },
    {
      "cell_type": "markdown",
      "metadata": {
        "id": "-hWjaGwI_hza",
        "colab_type": "text"
      },
      "source": [
        "<h1><center>Guide Notebook for the 380CT Assignment on TSP</center></h1>"
      ]
    },
    {
      "cell_type": "markdown",
      "metadata": {
        "id": "CUZnltIL_hz3",
        "colab_type": "text"
      },
      "source": [
        "_Kamal Bentahar_\n",
        "\n",
        "[https://github.coventry.ac.uk/380CT-1920JANMAY/TSP-Guidance](https://github.coventry.ac.uk/380CT-1920JANMAY/TSP-Guidance)"
      ]
    },
    {
      "cell_type": "markdown",
      "metadata": {
        "id": "MRKeXDaG_h0N",
        "colab_type": "text"
      },
      "source": [
        "# Notation and definitions"
      ]
    },
    {
      "cell_type": "markdown",
      "metadata": {
        "id": "SyqAfX-I_h0l",
        "colab_type": "text"
      },
      "source": [
        "Let $G$ be a complete weighted graph with $n$ vertices...\n",
        "\n",
        "- **Complete**: the graph is undirected, has no self-loops, and each node is connected to all the other vertices.\n",
        "- **Weighted**: the edges have a weight (a positive integer).\n",
        "- **Cycle**: a path that visits every vertex once, and goes back to the start point.\n",
        "- **Total cost of the cycle**: sum of the edge weights of the cycle."
      ]
    },
    {
      "cell_type": "markdown",
      "metadata": {
        "id": "h2BkMNvb_h0r",
        "colab_type": "text"
      },
      "source": [
        "# Definition of the problem"
      ]
    },
    {
      "cell_type": "markdown",
      "metadata": {
        "id": "btOpFp0K_h0y",
        "colab_type": "text"
      },
      "source": [
        "Given $G$ as above, the versions of the TSP are defined as follows:\n",
        "\n",
        "* **Decisional TSP (D-TSP)**:\n",
        "> Given a total cost $k$, decide if $G$ is has a cycle of length $\\leq k$.\n",
        "\n",
        "    **NP-complete**, because D-TSP $\\in$ NP and D-TSP $\\leq_p$ HAMCYCLE.\n",
        "    \n",
        "    * D-TSP $\\in$ NP: once a cycle is given (a certificate) we can quickly evaluate the its cost in $O(n)$ time to verify it is equal to $k$.\n",
        "    * D-TSP $\\leq_p$ HAMCYCLE: Reduction from HAMCYCLE (Hoos and Stutzler, p.25).\n",
        "\n",
        "* **Search TSP**:\n",
        "> Given a total cost $k$, search for a cycle of length $\\leq k$ in $G$.\n",
        "> (If found then return it, otherwise say that there is no such cycle.)\n",
        "    \n",
        "* **Optimization TSP**:\n",
        "> Given $G$, find a cycle of minimal total cost.\n",
        "\n",
        "    **NP-Hard**, because the optimization version of (decision) NP-complete problems are automatically NP-Hard. (using the same method sketched above for **Search TSP**)\n",
        "\n",
        "The facts about the complexity classes memberships can also be found in (Garey and Johnson, 1979) and (Hoos and Stutzler, 2005)."
      ]
    },
    {
      "cell_type": "markdown",
      "metadata": {
        "id": "FXJPAmAv_h1F",
        "colab_type": "text"
      },
      "source": [
        "# Testing methodology"
      ]
    },
    {
      "cell_type": "markdown",
      "metadata": {
        "id": "cf78WpzF_h1M",
        "colab_type": "text"
      },
      "source": [
        "* **Exact methods**:\n",
        "    Average time for instances with increasing $n$.\n",
        "\n",
        "* **Greedy and meta-heuristics**:\n",
        "    Average \"quality\" as $n$ increases.\n"
      ]
    },
    {
      "cell_type": "markdown",
      "metadata": {
        "id": "8MLSBCSg_h1h",
        "colab_type": "text"
      },
      "source": [
        "## Random instances sampling strategy"
      ]
    },
    {
      "cell_type": "markdown",
      "metadata": {
        "id": "W_wrX_XG_h12",
        "colab_type": "text"
      },
      "source": [
        "General TSP instances will be generated by creating symmetric adjacency matrices uniformly at random."
      ]
    },
    {
      "cell_type": "markdown",
      "metadata": {
        "id": "x43fbPQE_h2G",
        "colab_type": "text"
      },
      "source": [
        "# Code"
      ]
    },
    {
      "cell_type": "markdown",
      "metadata": {
        "id": "nfzW4t-h_h2J",
        "colab_type": "text"
      },
      "source": [
        "First start by importing relevant libraries."
      ]
    },
    {
      "cell_type": "code",
      "metadata": {
        "id": "FVxr1tYU_h2e",
        "colab_type": "code",
        "colab": {}
      },
      "source": [
        "from random import randint, choice\n",
        "from pprint import pprint\n",
        "from itertools import permutations\n",
        "from math import inf as oo # Infinity (∞) is larger than any number\n",
        "from time      import time\n",
        "import matplotlib.pyplot as plt\n",
        "import copy"
      ],
      "execution_count": 0,
      "outputs": []
    },
    {
      "cell_type": "markdown",
      "metadata": {
        "id": "dgETHl5n_h28",
        "colab_type": "text"
      },
      "source": [
        "## Basics"
      ]
    },
    {
      "cell_type": "markdown",
      "metadata": {
        "id": "rDQJpZ2N_h3C",
        "colab_type": "text"
      },
      "source": [
        "Let the set of vertices be $\\{0, 1, 2,\\ldots, n-1\\}$.\n",
        "\n",
        "Without loss of generality, we can consider $0$ to be the start and end point of cycles."
      ]
    },
    {
      "cell_type": "code",
      "metadata": {
        "id": "3fwWQ4VP_h3M",
        "colab_type": "code",
        "colab": {}
      },
      "source": [
        "MAX_DISTANCE = 100\n",
        "\n",
        "def random_symmetric_graph(n):\n",
        "    ''' Symmetric adjacency matrix of size nxn '''\n",
        "    dist_matrix = [[oo for _ in range(n)] for _ in range(n)]\n",
        "    for i in range(n):\n",
        "        for j in range(i+1,n):\n",
        "            v = randint(1,MAX_DISTANCE)\n",
        "            dist_matrix[i][j] = v\n",
        "            dist_matrix[j][i] = v\n",
        "    return dist_matrix\n",
        "\n",
        "def show(G):\n",
        "    ''' Show adjacency matrix. Useful for debugging. '''\n",
        "    n = len(G)\n",
        "    r = \"     \"\n",
        "    for i in range(n):\n",
        "        r += f'{i:4}'\n",
        "    r += '\\n    -'+'-'*(4*n)+'\\n'\n",
        "    for i in range(n):\n",
        "        r += f'{i:2} | '\n",
        "        for j in range(n):\n",
        "            r += f'{G[i][j]:4}'\n",
        "        r += '\\n'\n",
        "    r = r.replace('inf', '  ∞')\n",
        "    print(r)\n",
        "\n",
        "def cost(G, cycle):\n",
        "    ''' Calculate the cost of the given cycle '''\n",
        "    c = 0\n",
        "    n = len(G)\n",
        "    for i in range(n):\n",
        "        # a = cycle[i]\n",
        "        # b = cycle[(i+1)%n]\n",
        "        c += G[cycle[i]][cycle[i-1]]\n",
        "    return c"
      ],
      "execution_count": 0,
      "outputs": []
    },
    {
      "cell_type": "markdown",
      "metadata": {
        "id": "jwnJokt4_h3n",
        "colab_type": "text"
      },
      "source": [
        "### Example"
      ]
    },
    {
      "cell_type": "code",
      "metadata": {
        "id": "xSPi1Pp2_h3s",
        "colab_type": "code",
        "outputId": "5118ed83-1b31-400c-8fa1-5fbd150ef378",
        "colab": {
          "base_uri": "https://localhost:8080/",
          "height": 153
        }
      },
      "source": [
        "G=random_symmetric_graph(5)\n",
        "show(G)"
      ],
      "execution_count": 0,
      "outputs": [
        {
          "output_type": "stream",
          "text": [
            "        0   1   2   3   4\n",
            "    ---------------------\n",
            " 0 |    ∞  75  93   4  63\n",
            " 1 |   75   ∞  14  18  42\n",
            " 2 |   93  14   ∞  99  26\n",
            " 3 |    4  18  99   ∞  66\n",
            " 4 |   63  42  26  66   ∞\n",
            "\n"
          ],
          "name": "stdout"
        }
      ]
    },
    {
      "cell_type": "markdown",
      "metadata": {
        "id": "Ke6Zt3is_h37",
        "colab_type": "text"
      },
      "source": [
        "# Solution methods"
      ]
    },
    {
      "cell_type": "markdown",
      "metadata": {
        "id": "wL7dHPID_h4C",
        "colab_type": "text"
      },
      "source": [
        "## Exact methods -- Exhaustive search"
      ]
    },
    {
      "cell_type": "markdown",
      "metadata": {
        "id": "KAFe3rq4_h4G",
        "colab_type": "text"
      },
      "source": [
        "The idea is to:\n",
        "- Consider vertex $0$ as the start and end point.\n",
        "- Iterate over all permutations of the vertices $\\{1,2,\\ldots, n-1\\}$.\n",
        "    -  Calculate cost of each permutation and keep track of minimum cost permutation.\n",
        "- Return the cycle with minimum cost.\n",
        "\n",
        "More formally, the pseudo-code is as follows:\n",
        "\n",
        "**Input**: $G$.\n",
        "\n",
        "**Output**: a cycle in $G$ of shortest cost."
      ]
    },
    {
      "cell_type": "markdown",
      "metadata": {
        "id": "bMk0Wg6p_h4N",
        "colab_type": "text"
      },
      "source": [
        "1. $bestcycle\\gets \\emptyset$\n",
        "2. $bestcost\\gets \\infty$\n",
        "3. **for all** possible cycles $p$ in $G$ (starting and ending at $0$) **do**\n",
        "4. $\\quad$ $c\\gets$ cost of $p$\n",
        "2. $\\quad$ **if** $c<bestcost$ **then**\n",
        "3. $\\qquad$ $bestcycle\\gets p$\n",
        "3. $\\qquad$ $bestcost\\gets c$\n",
        "4. $\\quad$ **end if**\n",
        "5. **end for**\n",
        "6. **return** $bestcycle, bestcost$"
      ]
    },
    {
      "cell_type": "markdown",
      "metadata": {
        "id": "0wekU5WP_h4R",
        "colab_type": "text"
      },
      "source": [
        "There are $(n-1)!$ possible cycles, and each computation of a cycle's cost costs $O(n)$. So this algorithm costs $$O((n-1)!\\cdot n)=O(n!).$$"
      ]
    },
    {
      "cell_type": "code",
      "metadata": {
        "id": "CLFNBcV9_h4T",
        "colab_type": "code",
        "colab": {}
      },
      "source": [
        "def exhaustive_search(G):\n",
        "    n = len(G)    \n",
        "    best_cost = oo # infinity\n",
        "    best_cycle = []\n",
        "    for cycle in permutations(range(1,n)): # permutations of [1,2,...,n]\n",
        "        cycle=[0]+list(cycle)              # add the starting city: 0\n",
        "        c = cost(G, cycle)\n",
        "        if c < best_cost:\n",
        "            best_cost = c\n",
        "            best_cycle = cycle\n",
        "    return (best_cycle, best_cost)"
      ],
      "execution_count": 0,
      "outputs": []
    },
    {
      "cell_type": "markdown",
      "metadata": {
        "id": "sFiioQln_h4k",
        "colab_type": "text"
      },
      "source": [
        "## Testing"
      ]
    },
    {
      "cell_type": "code",
      "metadata": {
        "scrolled": false,
        "id": "JYAK6Oby_h4n",
        "colab_type": "code",
        "outputId": "38f08fe8-34e1-4fef-ab79-cba4adcd7905",
        "colab": {
          "base_uri": "https://localhost:8080/",
          "height": 85
        }
      },
      "source": [
        "pnts_n = []\n",
        "pnts_t = []\n",
        "\n",
        "n  = 8\n",
        "t0 = t1 = 0\n",
        "\n",
        "while t1-t0<1: # in seconds; if it takes too long then stop testing\n",
        "    G = random_symmetric_graph(n)\n",
        "    t0 = time()\n",
        "    exhaustive_search(G)\n",
        "    t1 = time()\n",
        "    # record time\n",
        "    print( f\"{n}\\t{t1-t0}\" )\n",
        "    pnts_n.append( n )\n",
        "    pnts_t.append( t1-t0 )\n",
        "    n += 1"
      ],
      "execution_count": 0,
      "outputs": [
        {
          "output_type": "stream",
          "text": [
            "8\t0.011650323867797852\n",
            "9\t0.06360459327697754\n",
            "10\t0.6127607822418213\n",
            "11\t6.445885181427002\n"
          ],
          "name": "stdout"
        }
      ]
    },
    {
      "cell_type": "markdown",
      "metadata": {
        "id": "E5PbtE-e_h45",
        "colab_type": "text"
      },
      "source": [
        "Let us plot this data to see it visually."
      ]
    },
    {
      "cell_type": "code",
      "metadata": {
        "id": "5LqCGaV6_h4_",
        "colab_type": "code",
        "outputId": "6f7028ec-049c-4489-fed7-71ec990e39b9",
        "colab": {
          "base_uri": "https://localhost:8080/",
          "height": 265
        }
      },
      "source": [
        "plt.plot(pnts_n, pnts_t, 'ro-')\n",
        "plt.show()"
      ],
      "execution_count": 0,
      "outputs": [
        {
          "output_type": "display_data",
          "data": {
            "image/png": "[encoded data removed]",
            "text/plain": [
              "<Figure size 432x288 with 1 Axes>"
            ]
          },
          "metadata": {
            "tags": []
          }
        }
      ]
    },
    {
      "cell_type": "code",
      "metadata": {
        "id": "4n6c2Kdi_h5J",
        "colab_type": "code",
        "outputId": "67a16c50-d841-451b-ca6c-ffc5b4c8080d",
        "colab": {
          "base_uri": "https://localhost:8080/",
          "height": 265
        }
      },
      "source": [
        "pnts_ratios = [pnts_t[i]/pnts_t[i-1] for i in range(1,len(pnts_n))]\n",
        "plt.plot(pnts_n[:-1], pnts_ratios, 'ro-')\n",
        "plt.plot(pnts_n,pnts_n,'b-') # theoretical ratios\n",
        "plt.show()"
      ],
      "execution_count": 0,
      "outputs": [
        {
          "output_type": "display_data",
          "data": {
            "image/png": "[encoded data removed]",
            "text/plain": [
              "<Figure size 432x288 with 1 Axes>"
            ]
          },
          "metadata": {
            "tags": []
          }
        }
      ]
    },
    {
      "cell_type": "markdown",
      "metadata": {
        "id": "p8eBO-8q_h5U",
        "colab_type": "text"
      },
      "source": [
        "### Discussion"
      ]
    },
    {
      "cell_type": "markdown",
      "metadata": {
        "id": "H6r2E2Ka_h5W",
        "colab_type": "text"
      },
      "source": [
        "* Exhaustive search exhibits combinatorial running time $O(n!)$:\n",
        "* So it is only useful/possible when $n$ is small, up to about 13 on the current machine if it needs to finish within an hour."
      ]
    },
    {
      "cell_type": "markdown",
      "metadata": {
        "id": "j5RLfqN4_h5Z",
        "colab_type": "text"
      },
      "source": [
        "# Approximation"
      ]
    },
    {
      "cell_type": "markdown",
      "metadata": {
        "id": "6gs9xiTA_h5i",
        "colab_type": "text"
      },
      "source": [
        "## Greedy search"
      ]
    },
    {
      "cell_type": "markdown",
      "metadata": {
        "id": "UOGs6g7p_h5l",
        "colab_type": "text"
      },
      "source": [
        "##### Nearest neigbours"
      ]
    },
    {
      "cell_type": "code",
      "metadata": {
        "id": "CKd5KUMu_h5v",
        "colab_type": "code",
        "colab": {}
      },
      "source": [
        "def greedy_nearest_neighbours(G):\n",
        "    H = copy.deepcopy(G) # We need the original G. We work on/modify H\n",
        "    n = len(H)\n",
        "    cities = list(range(n))\n",
        "    cycle = [] # solution to be built\n",
        "    city = 0 # Start city\n",
        "    while len(cities)>0:\n",
        "        # Find nearest neighbour\n",
        "        city_neighbours = H[city]\n",
        "        smallest_distance = min(city_neighbours)\n",
        "        nearest_city = city_neighbours.index(smallest_distance)\n",
        "        # Update 'cycle' and 'cities' and H then 'city'\n",
        "        cycle.append(city)\n",
        "        cities.remove(city)\n",
        "        for i in range(n): # 'city' is not to be used again!\n",
        "            H[city][i] = oo\n",
        "            H[i][city] = oo\n",
        "        city = nearest_city\n",
        "    return (cycle, cost(G, cycle))\n"
      ],
      "execution_count": 0,
      "outputs": []
    },
    {
      "cell_type": "markdown",
      "metadata": {
        "id": "rtaf1i5l_h5_",
        "colab_type": "text"
      },
      "source": [
        "### Example"
      ]
    },
    {
      "cell_type": "code",
      "metadata": {
        "id": "O8ehOFe5_h6C",
        "colab_type": "code",
        "outputId": "1e77270c-05ae-46d7-f833-50a3edcfecf1",
        "colab": {
          "base_uri": "https://localhost:8080/",
          "height": 153
        }
      },
      "source": [
        "G=random_symmetric_graph(4)\n",
        "show(G)\n",
        "greedy_nearest_neighbours(G)"
      ],
      "execution_count": 0,
      "outputs": [
        {
          "output_type": "stream",
          "text": [
            "        0   1   2   3\n",
            "    -----------------\n",
            " 0 |    ∞  75  78  77\n",
            " 1 |   75   ∞  47  64\n",
            " 2 |   78  47   ∞  36\n",
            " 3 |   77  64  36   ∞\n",
            "\n"
          ],
          "name": "stdout"
        },
        {
          "output_type": "execute_result",
          "data": {
            "text/plain": [
              "([0, 1, 2, 3], 235)"
            ]
          },
          "metadata": {
            "tags": []
          },
          "execution_count": 12
        }
      ]
    },
    {
      "cell_type": "markdown",
      "metadata": {
        "id": "BlwhIupT_h6M",
        "colab_type": "text"
      },
      "source": [
        "### Test"
      ]
    },
    {
      "cell_type": "code",
      "metadata": {
        "id": "FQzAcvJS_h6Q",
        "colab_type": "code",
        "outputId": "bba25fed-b138-4c01-bd8f-358aa8b3ffef",
        "colab": {
          "base_uri": "https://localhost:8080/",
          "height": 136
        }
      },
      "source": [
        "MAX_REPETITIONS = 100\n",
        "\n",
        "pnts_n = []\n",
        "pnts_t = []\n",
        "pnts_q = []\n",
        "\n",
        "n = 10\n",
        "t = 0\n",
        "\n",
        "while t<10: # in seconds; if it takes too long then stop testing\n",
        "    t = 0\n",
        "    expected_cycle_length = (MAX_DISTANCE/2)*n # TODO: Better estimate?\n",
        "    sum_of_distances = 0\n",
        "    for repetitions in range(MAX_REPETITIONS):\n",
        "        G = random_symmetric_graph(n)\n",
        "        t0 = time()\n",
        "        cycle, c = greedy_nearest_neighbours(G)\n",
        "        t1 = time()\n",
        "        sum_of_distances += c\n",
        "        t += t1-t0\n",
        "    # record time and quality\n",
        "    q = (sum_of_distances/MAX_REPETITIONS)/expected_cycle_length\n",
        "    pnts_n.append( n )\n",
        "    pnts_t.append( t )\n",
        "    pnts_q.append( q )\n",
        "    print( f\"{n}\\t{t}\\t{q}\" )\n",
        "    n *= 2"
      ],
      "execution_count": 0,
      "outputs": [
        {
          "output_type": "stream",
          "text": [
            "10\t0.012942075729370117\t0.5101\n",
            "20\t0.036751747131347656\t0.3172\n",
            "40\t0.12387228012084961\t0.207415\n",
            "80\t0.4722127914428711\t0.1225175\n",
            "160\t1.7886769771575928\t0.07608374999999999\n",
            "320\t7.253302574157715\t0.048508749999999996\n",
            "640\t29.39768695831299\t0.0345234375\n"
          ],
          "name": "stdout"
        }
      ]
    },
    {
      "cell_type": "code",
      "metadata": {
        "id": "XfmTwwfq_h6Y",
        "colab_type": "code",
        "outputId": "159651ac-17ce-4806-f5ab-878aaeec3e6e",
        "colab": {
          "base_uri": "https://localhost:8080/",
          "height": 265
        }
      },
      "source": [
        "plt.plot(pnts_n, pnts_t, 'ro-')\n",
        "plt.show()"
      ],
      "execution_count": 0,
      "outputs": [
        {
          "output_type": "display_data",
          "data": {
            "image/png": "[encoded data removed]",
            "text/plain": [
              "<Figure size 432x288 with 1 Axes>"
            ]
          },
          "metadata": {
            "tags": []
          }
        }
      ]
    },
    {
      "cell_type": "code",
      "metadata": {
        "id": "gCxcEe_q_h6j",
        "colab_type": "code",
        "outputId": "7807e72f-ce07-4c36-f8e1-9f7b365b080c",
        "colab": {
          "base_uri": "https://localhost:8080/",
          "height": 265
        }
      },
      "source": [
        "plt.plot(pnts_q, pnts_t, 'ro-')\n",
        "plt.show()"
      ],
      "execution_count": 0,
      "outputs": [
        {
          "output_type": "display_data",
          "data": {
            "image/png": "[encoded data removed]",
            "text/plain": [
              "<Figure size 432x288 with 1 Axes>"
            ]
          },
          "metadata": {
            "tags": []
          }
        }
      ]
    },
    {
      "cell_type": "markdown",
      "metadata": {
        "id": "QtHz5DNT_h6s",
        "colab_type": "text"
      },
      "source": [
        "## Metaheuristics"
      ]
    },
    {
      "cell_type": "code",
      "metadata": {
        "id": "tg8xA8bU_h6y",
        "colab_type": "code",
        "colab": {}
      },
      "source": [
        "def twoOptSwap(cycle, i, k):\n",
        "    new_cycle = cycle[:i]\n",
        "    new_cycle += cycle[i:k+1][::-1]\n",
        "    new_cycle += cycle[k+1:]\n",
        "    return new_cycle\n",
        "\n",
        "def iterative_improvement(G, cycle, best_distance):\n",
        "    H = copy.deepcopy(G) # We need the original G. We work on/modify H\n",
        "    n = len(H)\n",
        "    # cycle, best_distance = greedy_nearest_neighbours(H) # initial sol\n",
        "    \n",
        "    improved = True\n",
        "    while improved:\n",
        "        improved = False\n",
        "        # calculate total dist for existing route \n",
        "        best_distance = cost(H, cycle)\n",
        "\n",
        "        for i in range(0, n-2):\n",
        "            improved = False\n",
        "        \n",
        "            for k in range(i+1, n-1):\n",
        "                # new_cycle = twoOptSwap(cycle, i, k)\n",
        "                new_cycle = cycle[:i] + cycle[i:k+1][::-1] + cycle[k+1:]\n",
        "                new_distance = cost(H, new_cycle)\n",
        "                \n",
        "                if new_distance < best_distance:\n",
        "                    cycle = new_cycle\n",
        "                    best_distance = new_distance\n",
        "                    improved = True\n",
        "                    break\n",
        "            \n",
        "            if improved:\n",
        "                break\n",
        "                    \n",
        "                \n",
        "    return (cycle, best_distance)\n",
        "    "
      ],
      "execution_count": 0,
      "outputs": []
    },
    {
      "cell_type": "code",
      "metadata": {
        "id": "-F_Setzv_h67",
        "colab_type": "code",
        "outputId": "d85064ab-212c-4eff-c74f-8007e3377f32",
        "colab": {
          "base_uri": "https://localhost:8080/",
          "height": 170
        }
      },
      "source": [
        "G=random_symmetric_graph(5)\n",
        "show(G)\n",
        "cycle, best_distance = greedy_nearest_neighbours(G) # initial sol\n",
        "\n",
        "iterative_improvement(G, cycle, best_distance)"
      ],
      "execution_count": 0,
      "outputs": [
        {
          "output_type": "stream",
          "text": [
            "        0   1   2   3   4\n",
            "    ---------------------\n",
            " 0 |    ∞  94  57  81  13\n",
            " 1 |   94   ∞  96  63  98\n",
            " 2 |   57  96   ∞  70  84\n",
            " 3 |   81  63  70   ∞  27\n",
            " 4 |   13  98  84  27   ∞\n",
            "\n"
          ],
          "name": "stdout"
        },
        {
          "output_type": "execute_result",
          "data": {
            "text/plain": [
              "([0, 4, 3, 1, 2], 256)"
            ]
          },
          "metadata": {
            "tags": []
          },
          "execution_count": 17
        }
      ]
    },
    {
      "cell_type": "code",
      "metadata": {
        "id": "SGHrGqpl_h7D",
        "colab_type": "code",
        "outputId": "4c612d73-8fe9-4c07-c05a-0cdf78f953c1",
        "colab": {
          "base_uri": "https://localhost:8080/",
          "height": 102
        }
      },
      "source": [
        "MAX_REPETITIONS = 10\n",
        "\n",
        "pnts_n = []\n",
        "pnts_t = []\n",
        "pnts_q = []\n",
        "\n",
        "n = 500\n",
        "t = 1\n",
        "print( f\"sz\\titer\\tNN\\tQ1\" )\n",
        "\n",
        "while t: # in seconds; if it takes too long then stop testing\n",
        "    t = 0; t2 = 0\n",
        "    expected_cycle_length = (MAX_DISTANCE/2)*n # TODO: Better estimate?\n",
        "    sum_of_distances = 0; sum_of_inits = 0\n",
        "\n",
        "    for repetitions in range(MAX_REPETITIONS):\n",
        "        G = random_symmetric_graph(n)\n",
        "        ti = time()\n",
        "        cycle, best_distance = greedy_nearest_neighbours(G) # initial sol\n",
        "        sum_of_inits += best_distance\n",
        "        t0 = time()\n",
        "        cycle, c = iterative_improvement(G, cycle, best_distance)\n",
        "        t1 = time()\n",
        "        sum_of_distances += c\n",
        "        t += t1-t0\n",
        "        t2 += t0 - ti\n",
        "    # record time and quality\n",
        "    # q = (sum_of_distances/MAX_REPETITIONS)/expected_cycle_length\n",
        "    # q2 = (sum_of_inits/MAX_REPETITIONS)/expected_cycle_length\n",
        "    pnts_n.append( n )\n",
        "    pnts_t.append( t )\n",
        "    pnts_q.append( q )\n",
        "    print( f\"{n}\\t{t}\\t{t2}\\t{c}\\t{best_distance}\" )\n",
        "    n += 50"
      ],
      "execution_count": 0,
      "outputs": [
        {
          "output_type": "stream",
          "text": [
            "sz\titer\tNN\tQ1\n",
            "500\t1006.3379354476929\t1.7818834781646729\t693\t837\n",
            "550\t1347.2280759811401\t2.1759161949157715\t750\t1048\n",
            "600\t1799.3937237262726\t2.6271109580993652\t787\t1046\n",
            "650\t2459.1465072631836\t3.0516839027404785\t831\t1130\n"
          ],
          "name": "stdout"
        }
      ]
    },
    {
      "cell_type": "markdown",
      "metadata": {
        "id": "WsyIYizE_h7N",
        "colab_type": "text"
      },
      "source": [
        "# References"
      ]
    },
    {
      "cell_type": "markdown",
      "metadata": {
        "id": "1KpjFtyp_h7P",
        "colab_type": "text"
      },
      "source": [
        "* Garey, S. and Johnson, D. (1979)\n",
        "**Computers and Intractability: A Guide to the Theory of NP-Completeness.**\n",
        "Freeman.\n",
        "\n",
        "* Hoos, H. and Stutzler, T. (2005)\n",
        "**Stochastic Local Search: Foundations and Applications.**\n",
        "Morgan Kaufmann.\n",
        "\n",
        "* Sipser, M. (2013).\n",
        "**Introduction to the theory of computation**\n",
        "(3rd international ed.). Cengage Learning."
      ]
    },
    {
      "cell_type": "code",
      "metadata": {
        "id": "DZoZtrMI_h7S",
        "colab_type": "code",
        "colab": {}
      },
      "source": [
        ""
      ],
      "execution_count": 0,
      "outputs": []
    }
  ]
}