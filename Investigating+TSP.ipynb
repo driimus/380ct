{
  "nbformat": 4,
  "nbformat_minor": 0,
  "metadata": {
    "kernelspec": {
      "display_name": "Python 3",
      "language": "python",
      "name": "python3"
    },
    "language_info": {
      "codemirror_mode": {
        "name": "ipython",
        "version": 3
      },
      "file_extension": ".py",
      "mimetype": "text/x-python",
      "name": "python",
      "nbconvert_exporter": "python",
      "pygments_lexer": "ipython3",
      "version": "3.7.4"
    },
    "colab": {
      "name": "Investigating+TSP.ipynb",
      "provenance": [],
      "collapsed_sections": [],
      "include_colab_link": true
    }
  },
  "cells": [
    {
      "cell_type": "markdown",
      "metadata": {
        "id": "view-in-github",
        "colab_type": "text"
      },
      "source": [
        "<a href=\"https://colab.research.google.com/github/driimus/380ct/blob/master/Investigating%2BTSP.ipynb\" target=\"_parent\"><img src=\"https://colab.research.google.com/assets/colab-badge.svg\" alt=\"Open In Colab\"/></a>"
      ]
    },
    {
      "cell_type": "markdown",
      "metadata": {
        "id": "-hWjaGwI_hza",
        "colab_type": "text"
      },
      "source": [
        "<h1><center>Guide Notebook for the 380CT Assignment on TSP</center></h1>"
      ]
    },
    {
      "cell_type": "markdown",
      "metadata": {
        "id": "CUZnltIL_hz3",
        "colab_type": "text"
      },
      "source": [
        "_Kamal Bentahar_\n",
        "\n",
        "[https://github.coventry.ac.uk/380CT-1920JANMAY/TSP-Guidance](https://github.coventry.ac.uk/380CT-1920JANMAY/TSP-Guidance)"
      ]
    },
    {
      "cell_type": "markdown",
      "metadata": {
        "id": "MRKeXDaG_h0N",
        "colab_type": "text"
      },
      "source": [
        "# Notation and definitions"
      ]
    },
    {
      "cell_type": "markdown",
      "metadata": {
        "id": "SyqAfX-I_h0l",
        "colab_type": "text"
      },
      "source": [
        "Let $G$ be a complete weighted graph with $n$ vertices...\n",
        "\n",
        "- **Complete**: the graph is undirected, has no self-loops, and each node is connected to all the other vertices.\n",
        "- **Weighted**: the edges have a weight (a positive integer).\n",
        "- **Cycle**: a path that visits every vertex once, and goes back to the start point.\n",
        "- **Total cost of the cycle**: sum of the edge weights of the cycle."
      ]
    },
    {
      "cell_type": "markdown",
      "metadata": {
        "id": "h2BkMNvb_h0r",
        "colab_type": "text"
      },
      "source": [
        "# Definition of the problem"
      ]
    },
    {
      "cell_type": "markdown",
      "metadata": {
        "id": "btOpFp0K_h0y",
        "colab_type": "text"
      },
      "source": [
        "Given $G$ as above, the versions of the TSP are defined as follows:\n",
        "\n",
        "* **Decisional TSP (D-TSP)**:\n",
        "> Given a total cost $k$, decide if $G$ is has a cycle of length $\\leq k$.\n",
        "\n",
        "    **NP-complete**, because D-TSP $\\in$ NP and D-TSP $\\leq_p$ HAMCYCLE.\n",
        "    \n",
        "    * D-TSP $\\in$ NP: once a cycle is given (a certificate) we can quickly evaluate the its cost in $O(n)$ time to verify it is equal to $k$.\n",
        "    * D-TSP $\\leq_p$ HAMCYCLE: Reduction from HAMCYCLE (Hoos and Stutzler, p.25).\n",
        "\n",
        "* **Search TSP**:\n",
        "> Given a total cost $k$, search for a cycle of length $\\leq k$ in $G$.\n",
        "> (If found then return it, otherwise say that there is no such cycle.)\n",
        "    \n",
        "* **Optimization TSP**:\n",
        "> Given $G$, find a cycle of minimal total cost.\n",
        "\n",
        "    **NP-Hard**, because the optimization version of (decision) NP-complete problems are automatically NP-Hard. (using the same method sketched above for **Search TSP**)\n",
        "\n",
        "The facts about the complexity classes memberships can also be found in (Garey and Johnson, 1979) and (Hoos and Stutzler, 2005)."
      ]
    },
    {
      "cell_type": "markdown",
      "metadata": {
        "id": "FXJPAmAv_h1F",
        "colab_type": "text"
      },
      "source": [
        "# Testing methodology"
      ]
    },
    {
      "cell_type": "markdown",
      "metadata": {
        "id": "cf78WpzF_h1M",
        "colab_type": "text"
      },
      "source": [
        "* **Exact methods**:\n",
        "    Average time for instances with increasing $n$.\n",
        "\n",
        "* **Greedy and meta-heuristics**:\n",
        "    Average \"quality\" as $n$ increases.\n"
      ]
    },
    {
      "cell_type": "markdown",
      "metadata": {
        "id": "8MLSBCSg_h1h",
        "colab_type": "text"
      },
      "source": [
        "## Random instances sampling strategy"
      ]
    },
    {
      "cell_type": "markdown",
      "metadata": {
        "id": "W_wrX_XG_h12",
        "colab_type": "text"
      },
      "source": [
        "General TSP instances will be generated by creating symmetric adjacency matrices uniformly at random."
      ]
    },
    {
      "cell_type": "markdown",
      "metadata": {
        "id": "x43fbPQE_h2G",
        "colab_type": "text"
      },
      "source": [
        "# Code"
      ]
    },
    {
      "cell_type": "markdown",
      "metadata": {
        "id": "nfzW4t-h_h2J",
        "colab_type": "text"
      },
      "source": [
        "First start by importing relevant libraries."
      ]
    },
    {
      "cell_type": "code",
      "metadata": {
        "id": "FVxr1tYU_h2e",
        "colab_type": "code",
        "colab": {}
      },
      "source": [
        "from random import randint, choice\n",
        "from pprint import pprint\n",
        "from itertools import permutations\n",
        "from math import inf as oo # Infinity (∞) is larger than any number\n",
        "from time      import time\n",
        "import matplotlib.pyplot as plt\n",
        "import copy"
      ],
      "execution_count": 0,
      "outputs": []
    },
    {
      "cell_type": "markdown",
      "metadata": {
        "id": "dgETHl5n_h28",
        "colab_type": "text"
      },
      "source": [
        "## Basics"
      ]
    },
    {
      "cell_type": "markdown",
      "metadata": {
        "id": "rDQJpZ2N_h3C",
        "colab_type": "text"
      },
      "source": [
        "Let the set of vertices be $\\{0, 1, 2,\\ldots, n-1\\}$.\n",
        "\n",
        "Without loss of generality, we can consider $0$ to be the start and end point of cycles."
      ]
    },
    {
      "cell_type": "code",
      "metadata": {
        "id": "3fwWQ4VP_h3M",
        "colab_type": "code",
        "colab": {}
      },
      "source": [
        "MAX_DISTANCE = 100\n",
        "\n",
        "def random_symmetric_graph(n):\n",
        "    ''' Symmetric adjacency matrix of size nxn '''\n",
        "    dist_matrix = [[oo for _ in range(n)] for _ in range(n)]\n",
        "    avg_dist = 0\n",
        "    for i in range(n):\n",
        "        for j in range(i+1,n):\n",
        "            v = randint(1,MAX_DISTANCE)\n",
        "            avg_dist += v\n",
        "            dist_matrix[i][j] = v\n",
        "            dist_matrix[j][i] = v\n",
        "    return dist_matrix, avg_dist/n\n",
        "\n",
        "def show(G):\n",
        "    ''' Show adjacency matrix. Useful for debugging. '''\n",
        "    n = len(G)\n",
        "    r = \"     \"\n",
        "    for i in range(n):\n",
        "        r += f'{i:4}'\n",
        "    r += '\\n    -'+'-'*(4*n)+'\\n'\n",
        "    for i in range(n):\n",
        "        r += f'{i:2} | '\n",
        "        for j in range(n):\n",
        "            r += f'{G[i][j]:4}'\n",
        "        r += '\\n'\n",
        "    r = r.replace('inf', '  ∞')\n",
        "    print(r)\n",
        "\n",
        "def cost(G, cycle):\n",
        "    ''' Calculate the cost of the given cycle '''\n",
        "    c = 0\n",
        "    n = len(G)\n",
        "    for i in range(n):\n",
        "        # a = cycle[i]\n",
        "        # b = cycle[(i+1)%n]\n",
        "        c += G[cycle[i]][cycle[i-1]]\n",
        "    return c"
      ],
      "execution_count": 0,
      "outputs": []
    },
    {
      "cell_type": "markdown",
      "metadata": {
        "id": "jwnJokt4_h3n",
        "colab_type": "text"
      },
      "source": [
        "### Example"
      ]
    },
    {
      "cell_type": "code",
      "metadata": {
        "id": "xSPi1Pp2_h3s",
        "colab_type": "code",
        "outputId": "a5a086ae-24b8-4150-c1e8-bc88a8f2cf7e",
        "colab": {
          "base_uri": "https://localhost:8080/",
          "height": 153
        }
      },
      "source": [
        "G, avg_dist = random_symmetric_graph(5)\n",
        "show(G)"
      ],
      "execution_count": 28,
      "outputs": [
        {
          "output_type": "stream",
          "text": [
            "        0   1   2   3   4\n",
            "    ---------------------\n",
            " 0 |    ∞  28 466 921  60\n",
            " 1 |   28   ∞ 520 467 728\n",
            " 2 |  466 520   ∞ 149 626\n",
            " 3 |  921 467 149   ∞ 227\n",
            " 4 |   60 728 626 227   ∞\n",
            "\n"
          ],
          "name": "stdout"
        }
      ]
    },
    {
      "cell_type": "markdown",
      "metadata": {
        "id": "Ke6Zt3is_h37",
        "colab_type": "text"
      },
      "source": [
        "# Solution methods"
      ]
    },
    {
      "cell_type": "markdown",
      "metadata": {
        "id": "wL7dHPID_h4C",
        "colab_type": "text"
      },
      "source": [
        "## Exact methods -- Exhaustive search"
      ]
    },
    {
      "cell_type": "markdown",
      "metadata": {
        "id": "KAFe3rq4_h4G",
        "colab_type": "text"
      },
      "source": [
        "The idea is to:\n",
        "- Consider vertex $0$ as the start and end point.\n",
        "- Iterate over all permutations of the vertices $\\{1,2,\\ldots, n-1\\}$.\n",
        "    -  Calculate cost of each permutation and keep track of minimum cost permutation.\n",
        "- Return the cycle with minimum cost.\n",
        "\n",
        "More formally, the pseudo-code is as follows:\n",
        "\n",
        "**Input**: $G$.\n",
        "\n",
        "**Output**: a cycle in $G$ of shortest cost."
      ]
    },
    {
      "cell_type": "markdown",
      "metadata": {
        "id": "bMk0Wg6p_h4N",
        "colab_type": "text"
      },
      "source": [
        "1. $bestcycle\\gets \\emptyset$\n",
        "2. $bestcost\\gets \\infty$\n",
        "3. **for all** possible cycles $p$ in $G$ (starting and ending at $0$) **do**\n",
        "4. $\\quad$ $c\\gets$ cost of $p$\n",
        "2. $\\quad$ **if** $c<bestcost$ **then**\n",
        "3. $\\qquad$ $bestcycle\\gets p$\n",
        "3. $\\qquad$ $bestcost\\gets c$\n",
        "4. $\\quad$ **end if**\n",
        "5. **end for**\n",
        "6. **return** $bestcycle, bestcost$"
      ]
    },
    {
      "cell_type": "markdown",
      "metadata": {
        "id": "0wekU5WP_h4R",
        "colab_type": "text"
      },
      "source": [
        "There are $(n-1)!$ possible cycles, and each computation of a cycle's cost costs $O(n)$. So this algorithm costs $$O((n-1)!\\cdot n)=O(n!).$$"
      ]
    },
    {
      "cell_type": "code",
      "metadata": {
        "id": "CLFNBcV9_h4T",
        "colab_type": "code",
        "colab": {}
      },
      "source": [
        "def exhaustive_search(G):\n",
        "    n = len(G)    \n",
        "    best_cost = oo # infinity\n",
        "    best_cycle = []\n",
        "    for cycle in permutations(range(1,n)): # permutations of [1,2,...,n]\n",
        "        cycle=[0]+list(cycle)              # add the starting city: 0\n",
        "        c = cost(G, cycle)\n",
        "        if c < best_cost:\n",
        "            best_cost = c\n",
        "            best_cycle = cycle\n",
        "    return (best_cycle, best_cost)"
      ],
      "execution_count": 0,
      "outputs": []
    },
    {
      "cell_type": "markdown",
      "metadata": {
        "id": "sFiioQln_h4k",
        "colab_type": "text"
      },
      "source": [
        "## Testing"
      ]
    },
    {
      "cell_type": "code",
      "metadata": {
        "scrolled": false,
        "id": "JYAK6Oby_h4n",
        "colab_type": "code",
        "outputId": "77d1ed44-becf-49e5-81ff-ccbb08470165",
        "colab": {
          "base_uri": "https://localhost:8080/",
          "height": 85
        }
      },
      "source": [
        "pnts_n = []\n",
        "pnts_t = []\n",
        "\n",
        "n  = 8\n",
        "t0 = t1 = 0\n",
        "\n",
        "while t1-t0<1: # in seconds; if it takes too long then stop testing\n",
        "    G, avg_dist = random_symmetric_graph(n)\n",
        "    t0 = time()\n",
        "    exhaustive_search(G)\n",
        "    t1 = time()\n",
        "    # record time\n",
        "    print( f\"{n}\\t{t1-t0}\" )\n",
        "    pnts_n.append( n )\n",
        "    pnts_t.append( t1-t0 )\n",
        "    n += 1"
      ],
      "execution_count": 30,
      "outputs": [
        {
          "output_type": "stream",
          "text": [
            "8\t0.010787010192871094\n",
            "9\t0.06653451919555664\n",
            "10\t0.6457130908966064\n",
            "11\t6.627811908721924\n"
          ],
          "name": "stdout"
        }
      ]
    },
    {
      "cell_type": "markdown",
      "metadata": {
        "id": "E5PbtE-e_h45",
        "colab_type": "text"
      },
      "source": [
        "Let us plot this data to see it visually."
      ]
    },
    {
      "cell_type": "code",
      "metadata": {
        "id": "5LqCGaV6_h4_",
        "colab_type": "code",
        "outputId": "2c99b23d-5c8c-441c-cefa-c45686357a3a",
        "colab": {
          "base_uri": "https://localhost:8080/",
          "height": 265
        }
      },
      "source": [
        "plt.plot(pnts_n, pnts_t, 'ro-')\n",
        "plt.show()"
      ],
      "execution_count": 31,
      "outputs": [
        {
          "output_type": "display_data",
          "data": {
            "image/png": "[encoded data removed]",
            "text/plain": [
              "<Figure size 432x288 with 1 Axes>"
            ]
          },
          "metadata": {
            "tags": []
          }
        }
      ]
    },
    {
      "cell_type": "code",
      "metadata": {
        "id": "4n6c2Kdi_h5J",
        "colab_type": "code",
        "outputId": "e817bdfc-18db-4567-da5f-82fcccdff63d",
        "colab": {
          "base_uri": "https://localhost:8080/",
          "height": 265
        }
      },
      "source": [
        "pnts_ratios = [pnts_t[i]/pnts_t[i-1] for i in range(1,len(pnts_n))]\n",
        "plt.plot(pnts_n[:-1], pnts_ratios, 'ro-')\n",
        "plt.plot(pnts_n,pnts_n,'b-') # theoretical ratios\n",
        "plt.show()"
      ],
      "execution_count": 32,
      "outputs": [
        {
          "output_type": "display_data",
          "data": {
            "image/png": "[encoded data removed]",
            "text/plain": [
              "<Figure size 432x288 with 1 Axes>"
            ]
          },
          "metadata": {
            "tags": []
          }
        }
      ]
    },
    {
      "cell_type": "markdown",
      "metadata": {
        "id": "p8eBO-8q_h5U",
        "colab_type": "text"
      },
      "source": [
        "### Discussion"
      ]
    },
    {
      "cell_type": "markdown",
      "metadata": {
        "id": "H6r2E2Ka_h5W",
        "colab_type": "text"
      },
      "source": [
        "* Exhaustive search exhibits combinatorial running time $O(n!)$:\n",
        "* So it is only useful/possible when $n$ is small, up to about 13 on the current machine if it needs to finish within an hour."
      ]
    },
    {
      "cell_type": "markdown",
      "metadata": {
        "id": "j5RLfqN4_h5Z",
        "colab_type": "text"
      },
      "source": [
        "# Approximation"
      ]
    },
    {
      "cell_type": "markdown",
      "metadata": {
        "id": "6gs9xiTA_h5i",
        "colab_type": "text"
      },
      "source": [
        "## Greedy search"
      ]
    },
    {
      "cell_type": "markdown",
      "metadata": {
        "id": "UOGs6g7p_h5l",
        "colab_type": "text"
      },
      "source": [
        "##### Nearest neigbours"
      ]
    },
    {
      "cell_type": "code",
      "metadata": {
        "id": "CKd5KUMu_h5v",
        "colab_type": "code",
        "colab": {}
      },
      "source": [
        "def greedy_nearest_neighbours(G):\n",
        "    H = copy.deepcopy(G) # We need the original G. We work on/modify H\n",
        "    n = len(H)\n",
        "    cities = list(range(n))\n",
        "    cycle = [] # solution to be built\n",
        "    city = 0 # Start city\n",
        "    while len(cities)>0:\n",
        "        # Find nearest neighbour\n",
        "        city_neighbours = H[city]\n",
        "        smallest_distance = min(city_neighbours)\n",
        "        nearest_city = city_neighbours.index(smallest_distance)\n",
        "        # Update 'cycle' and 'cities' and H then 'city'\n",
        "        cycle.append(city)\n",
        "        cities.remove(city)\n",
        "        for i in range(n): # 'city' is not to be used again!\n",
        "            H[city][i] = oo\n",
        "            H[i][city] = oo\n",
        "        city = nearest_city\n",
        "    return (cycle, cost(G, cycle))\n"
      ],
      "execution_count": 0,
      "outputs": []
    },
    {
      "cell_type": "markdown",
      "metadata": {
        "id": "rtaf1i5l_h5_",
        "colab_type": "text"
      },
      "source": [
        "### Example"
      ]
    },
    {
      "cell_type": "code",
      "metadata": {
        "id": "O8ehOFe5_h6C",
        "colab_type": "code",
        "outputId": "22bc8803-c280-41a3-d17a-b00a0e6716cc",
        "colab": {
          "base_uri": "https://localhost:8080/",
          "height": 153
        }
      },
      "source": [
        "G, avg_dist = random_symmetric_graph(4)\n",
        "show(G)\n",
        "greedy_nearest_neighbours(G)"
      ],
      "execution_count": 34,
      "outputs": [
        {
          "output_type": "stream",
          "text": [
            "        0   1   2   3\n",
            "    -----------------\n",
            " 0 |    ∞ 223 861 444\n",
            " 1 |  223   ∞ 220 716\n",
            " 2 |  861 220   ∞ 185\n",
            " 3 |  444 716 185   ∞\n",
            "\n"
          ],
          "name": "stdout"
        },
        {
          "output_type": "execute_result",
          "data": {
            "text/plain": [
              "([0, 1, 2, 3], 1072)"
            ]
          },
          "metadata": {
            "tags": []
          },
          "execution_count": 34
        }
      ]
    },
    {
      "cell_type": "markdown",
      "metadata": {
        "id": "BlwhIupT_h6M",
        "colab_type": "text"
      },
      "source": [
        "### Test"
      ]
    },
    {
      "cell_type": "code",
      "metadata": {
        "id": "FQzAcvJS_h6Q",
        "colab_type": "code",
        "outputId": "221c4130-b619-4704-9235-fdf5ce32444b",
        "colab": {
          "base_uri": "https://localhost:8080/",
          "height": 136
        }
      },
      "source": [
        "MAX_REPETITIONS = 100\n",
        "\n",
        "pnts_n = []\n",
        "pnts_t = []\n",
        "pnts_q = []\n",
        "\n",
        "n = 10\n",
        "t = 0\n",
        "\n",
        "while t<10: # in seconds; if it takes too long then stop testing\n",
        "    t = 0\n",
        "    expected_cycle_length = (MAX_DISTANCE/2)*n # TODO: Better estimate?\n",
        "    sum_of_avgs = 0\n",
        "\n",
        "    sum_of_distances = 0\n",
        "    for repetitions in range(MAX_REPETITIONS):\n",
        "        G, avg_dist = random_symmetric_graph(n)\n",
        "        t0 = time()\n",
        "        cycle, c = greedy_nearest_neighbours(G)\n",
        "        t1 = time()\n",
        "\n",
        "        sum_of_avgs += (avg_dist/2)*n\n",
        "        sum_of_distances += c\n",
        "        t += t1-t0\n",
        "    # record time and quality\n",
        "    q = (sum_of_distances/MAX_REPETITIONS)/expected_cycle_length\n",
        "    q2 = sum_of_distances/sum_of_avgs\n",
        "    pnts_n.append( n )\n",
        "    pnts_t.append( t )\n",
        "    pnts_q.append( q )\n",
        "    print( f\"{n}\\t{t}\\t{q}\\t{q2}\" )\n",
        "    n *= 2"
      ],
      "execution_count": 41,
      "outputs": [
        {
          "output_type": "stream",
          "text": [
            "10\t0.010523796081542969\t0.4913\t0.21503070304054203\n",
            "20\t0.03244376182556152\t0.32850999999999997\t0.06823105218010787\n",
            "40\t0.12215232849121094\t0.19713\t0.020019279969066744\n",
            "80\t0.46270132064819336\t0.1228925\t0.006158263629481919\n",
            "160\t1.7810301780700684\t0.0749925\t0.001866956609129556\n",
            "320\t7.1768457889556885\t0.048893124999999996\t0.0006070545121278827\n",
            "640\t30.544769287109375\t0.0343809375\t0.00021307222905123438\n"
          ],
          "name": "stdout"
        }
      ]
    },
    {
      "cell_type": "code",
      "metadata": {
        "id": "XfmTwwfq_h6Y",
        "colab_type": "code",
        "colab": {}
      },
      "source": [
        "plt.plot(pnts_n, pnts_t, 'ro-')\n",
        "plt.show()"
      ],
      "execution_count": 0,
      "outputs": []
    },
    {
      "cell_type": "code",
      "metadata": {
        "id": "gCxcEe_q_h6j",
        "colab_type": "code",
        "colab": {}
      },
      "source": [
        "plt.plot(pnts_q, pnts_t, 'ro-')\n",
        "plt.show()"
      ],
      "execution_count": 0,
      "outputs": []
    },
    {
      "cell_type": "markdown",
      "metadata": {
        "id": "QtHz5DNT_h6s",
        "colab_type": "text"
      },
      "source": [
        "## Metaheuristics"
      ]
    },
    {
      "cell_type": "code",
      "metadata": {
        "id": "tg8xA8bU_h6y",
        "colab_type": "code",
        "colab": {}
      },
      "source": [
        "def twoOptSwap(cycle, i, k):\n",
        "    new_cycle = cycle[:i]\n",
        "    new_cycle += cycle[i:k+1][::-1]\n",
        "    new_cycle += cycle[k+1:]\n",
        "    return new_cycle\n",
        "\n",
        "def iterative_improvement(G, cycle, best_distance):\n",
        "    H = copy.deepcopy(G) # We need the original G. We work on/modify H\n",
        "    n = len(H)\n",
        "    # cycle, best_distance = greedy_nearest_neighbours(H) # initial sol\n",
        "    \n",
        "    improved = True\n",
        "    while improved:\n",
        "        improved = False\n",
        "        # calculate total dist for existing route \n",
        "        best_distance = cost(H, cycle)\n",
        "\n",
        "        for i in range(0, n-2):\n",
        "            improved = False\n",
        "        \n",
        "            for k in range(i+1, n-1):\n",
        "                # new_cycle = twoOptSwap(cycle, i, k)\n",
        "                new_cycle = cycle[:i] + cycle[i:k+1][::-1] + cycle[k+1:]\n",
        "                new_distance = cost(H, new_cycle)\n",
        "                \n",
        "                if new_distance < best_distance:\n",
        "                    cycle = new_cycle\n",
        "                    best_distance = new_distance\n",
        "                    improved = True\n",
        "                    break\n",
        "            \n",
        "            if improved:\n",
        "                break\n",
        "                    \n",
        "                \n",
        "    return (cycle, best_distance)\n",
        "    "
      ],
      "execution_count": 0,
      "outputs": []
    },
    {
      "cell_type": "code",
      "metadata": {
        "id": "-F_Setzv_h67",
        "colab_type": "code",
        "colab": {}
      },
      "source": [
        "G=random_symmetric_graph(5)\n",
        "show(G)\n",
        "cycle, best_distance = greedy_nearest_neighbours(G) # initial sol\n",
        "\n",
        "iterative_improvement(G, cycle, best_distance)"
      ],
      "execution_count": 0,
      "outputs": []
    },
    {
      "cell_type": "code",
      "metadata": {
        "id": "SGHrGqpl_h7D",
        "colab_type": "code",
        "outputId": "3d7d5124-1312-421e-cdb3-636e61922d49",
        "colab": {
          "base_uri": "https://localhost:8080/",
          "height": 85
        }
      },
      "source": [
        "MAX_REPETITIONS = 10\n",
        "\n",
        "pnts_n = []\n",
        "pnts_t = []\n",
        "pnts_q = []\n",
        "\n",
        "n = 50\n",
        "t = 0\n",
        "print( f\"sz\\titer\\tNN\\tQ1\" )\n",
        "\n",
        "while t < 60: # in seconds; if it takes too long then stop testing\n",
        "    t = 0; t2 = 0\n",
        "    # expected_cycle_length = (MAX_DISTANCE/2)*n # TODO: Better estimate?\n",
        "    sum_of_distances = 0; sum_of_inits = 0\n",
        "    sum_of_avgs = 0\n",
        "    for repetitions in range(MAX_REPETITIONS):\n",
        "        G, avg_dist = random_symmetric_graph(n)\n",
        "        ti = time()\n",
        "        cycle, best_distance = greedy_nearest_neighbours(G) # initial sol\n",
        "        sum_of_inits += best_distance\n",
        "        t0 = time()\n",
        "        cycle, c = iterative_improvement(G, cycle, best_distance)\n",
        "        t1 = time()\n",
        "        sum_of_distances += c\n",
        "        sum_of_avgs += (avg_dist/2)*n\n",
        "        t += t1-t0\n",
        "        t2 += t0 - ti\n",
        "    # record time and quality\n",
        "    q = sum_of_inits / sum_of_avgs\n",
        "    qi = sum_of_distances / sum_of_avgs\n",
        "    pnts_n.append( n )\n",
        "    pnts_t.append( t )\n",
        "    pnts_q.append( q )\n",
        "    print( f\"{n}\\t{t: .2f}\\t{t2: .2f}\\t{q: .5f}\\t{q2: .5f}\\t{qi: .5f}\\t{qi2: .5f}\" )\n",
        "    n += 50"
      ],
      "execution_count": 0,
      "outputs": [
        {
          "output_type": "stream",
          "text": [
            "sz\titer\tNN\tQ1\n",
            "50\t 0.35\t 0.02\t 0.01357\t 0.00094\t 0.00917\t 0.00063\n",
            "100\t 3.67\t 0.07\t 0.00407\t 0.00094\t 0.00279\t 0.00063\n",
            "150\t 15.28\t 0.16\t 0.00224\t 0.00094\t 0.00139\t 0.00063\n"
          ],
          "name": "stdout"
        }
      ]
    },
    {
      "cell_type": "code",
      "metadata": {
        "colab_type": "code",
        "id": "3VJNeOVhxRNw",
        "colab": {}
      },
      "source": [
        "plt.plot(pnts_n, pnts_t, 'ro-')\n",
        "plt.show()"
      ],
      "execution_count": 0,
      "outputs": []
    },
    {
      "cell_type": "markdown",
      "metadata": {
        "id": "WsyIYizE_h7N",
        "colab_type": "text"
      },
      "source": [
        "# References"
      ]
    },
    {
      "cell_type": "markdown",
      "metadata": {
        "id": "1KpjFtyp_h7P",
        "colab_type": "text"
      },
      "source": [
        "* Garey, S. and Johnson, D. (1979)\n",
        "**Computers and Intractability: A Guide to the Theory of NP-Completeness.**\n",
        "Freeman.\n",
        "\n",
        "* Hoos, H. and Stutzler, T. (2005)\n",
        "**Stochastic Local Search: Foundations and Applications.**\n",
        "Morgan Kaufmann.\n",
        "\n",
        "* Sipser, M. (2013).\n",
        "**Introduction to the theory of computation**\n",
        "(3rd international ed.). Cengage Learning."
      ]
    },
    {
      "cell_type": "code",
      "metadata": {
        "id": "DZoZtrMI_h7S",
        "colab_type": "code",
        "colab": {}
      },
      "source": [
        ""
      ],
      "execution_count": 0,
      "outputs": []
    }
  ]
}