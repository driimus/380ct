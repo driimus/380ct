{
  "nbformat": 4,
  "nbformat_minor": 0,
  "metadata": {
    "kernelspec": {
      "display_name": "Python 3",
      "language": "python",
      "name": "python3"
    },
    "language_info": {
      "codemirror_mode": {
        "name": "ipython",
        "version": 3
      },
      "file_extension": ".py",
      "mimetype": "text/x-python",
      "name": "python",
      "nbconvert_exporter": "python",
      "pygments_lexer": "ipython3",
      "version": "3.7.4"
    },
    "colab": {
      "name": "Investigating+TSP.ipynb",
      "provenance": [],
      "collapsed_sections": [],
      "include_colab_link": true
    }
  },
  "cells": [
    {
      "cell_type": "markdown",
      "metadata": {
        "id": "view-in-github",
        "colab_type": "text"
      },
      "source": [
        "<a href=\"https://colab.research.google.com/github/driimus/380ct/blob/master/Investigating%2BTSP.ipynb\" target=\"_parent\"><img src=\"https://colab.research.google.com/assets/colab-badge.svg\" alt=\"Open In Colab\"/></a>"
      ]
    },
    {
      "cell_type": "markdown",
      "metadata": {
        "id": "-hWjaGwI_hza",
        "colab_type": "text"
      },
      "source": [
        "<h1><center>Guide Notebook for the 380CT Assignment on TSP</center></h1>"
      ]
    },
    {
      "cell_type": "markdown",
      "metadata": {
        "id": "CUZnltIL_hz3",
        "colab_type": "text"
      },
      "source": [
        "_Kamal Bentahar_\n",
        "\n",
        "[https://github.coventry.ac.uk/380CT-1920JANMAY/TSP-Guidance](https://github.coventry.ac.uk/380CT-1920JANMAY/TSP-Guidance)"
      ]
    },
    {
      "cell_type": "markdown",
      "metadata": {
        "id": "MRKeXDaG_h0N",
        "colab_type": "text"
      },
      "source": [
        "# Notation and definitions"
      ]
    },
    {
      "cell_type": "markdown",
      "metadata": {
        "id": "SyqAfX-I_h0l",
        "colab_type": "text"
      },
      "source": [
        "Let $G$ be a complete weighted graph with $n$ vertices...\n",
        "\n",
        "- **Complete**: the graph is undirected, has no self-loops, and each node is connected to all the other vertices.\n",
        "- **Weighted**: the edges have a weight (a positive integer).\n",
        "- **Cycle**: a path that visits every vertex once, and goes back to the start point.\n",
        "- **Total cost of the cycle**: sum of the edge weights of the cycle."
      ]
    },
    {
      "cell_type": "markdown",
      "metadata": {
        "id": "h2BkMNvb_h0r",
        "colab_type": "text"
      },
      "source": [
        "# Definition of the problem"
      ]
    },
    {
      "cell_type": "markdown",
      "metadata": {
        "id": "btOpFp0K_h0y",
        "colab_type": "text"
      },
      "source": [
        "Given $G$ as above, the versions of the TSP are defined as follows:\n",
        "\n",
        "* **Decisional TSP (D-TSP)**:\n",
        "> Given a total cost $k$, decide if $G$ is has a cycle of length $\\leq k$.\n",
        "\n",
        "    **NP-complete**, because D-TSP $\\in$ NP and D-TSP $\\leq_p$ HAMCYCLE.\n",
        "    \n",
        "    * D-TSP $\\in$ NP: once a cycle is given (a certificate) we can quickly evaluate the its cost in $O(n)$ time to verify it is equal to $k$.\n",
        "    * D-TSP $\\leq_p$ HAMCYCLE: Reduction from HAMCYCLE (Hoos and Stutzler, p.25).\n",
        "\n",
        "* **Search TSP**:\n",
        "> Given a total cost $k$, search for a cycle of length $\\leq k$ in $G$.\n",
        "> (If found then return it, otherwise say that there is no such cycle.)\n",
        "    \n",
        "* **Optimization TSP**:\n",
        "> Given $G$, find a cycle of minimal total cost.\n",
        "\n",
        "    **NP-Hard**, because the optimization version of (decision) NP-complete problems are automatically NP-Hard. (using the same method sketched above for **Search TSP**)\n",
        "\n",
        "The facts about the complexity classes memberships can also be found in (Garey and Johnson, 1979) and (Hoos and Stutzler, 2005)."
      ]
    },
    {
      "cell_type": "markdown",
      "metadata": {
        "id": "FXJPAmAv_h1F",
        "colab_type": "text"
      },
      "source": [
        "# Testing methodology"
      ]
    },
    {
      "cell_type": "markdown",
      "metadata": {
        "id": "cf78WpzF_h1M",
        "colab_type": "text"
      },
      "source": [
        "* **Exact methods**:\n",
        "    Average time for instances with increasing $n$.\n",
        "\n",
        "* **Greedy and meta-heuristics**:\n",
        "    Average \"quality\" as $n$ increases.\n"
      ]
    },
    {
      "cell_type": "markdown",
      "metadata": {
        "id": "8MLSBCSg_h1h",
        "colab_type": "text"
      },
      "source": [
        "## Random instances sampling strategy"
      ]
    },
    {
      "cell_type": "markdown",
      "metadata": {
        "id": "W_wrX_XG_h12",
        "colab_type": "text"
      },
      "source": [
        "General TSP instances will be generated by creating symmetric adjacency matrices uniformly at random."
      ]
    },
    {
      "cell_type": "markdown",
      "metadata": {
        "id": "x43fbPQE_h2G",
        "colab_type": "text"
      },
      "source": [
        "# Code"
      ]
    },
    {
      "cell_type": "markdown",
      "metadata": {
        "id": "nfzW4t-h_h2J",
        "colab_type": "text"
      },
      "source": [
        "First start by importing relevant libraries."
      ]
    },
    {
      "cell_type": "code",
      "metadata": {
        "id": "FVxr1tYU_h2e",
        "colab_type": "code",
        "colab": {}
      },
      "source": [
        "from random import randint, choice\n",
        "from pprint import pprint\n",
        "from itertools import permutations\n",
        "from math import inf as oo # Infinity (∞) is larger than any number\n",
        "from math import exp, log\n",
        "from time      import time\n",
        "import matplotlib.pyplot as plt\n",
        "import copy"
      ],
      "execution_count": 0,
      "outputs": []
    },
    {
      "cell_type": "markdown",
      "metadata": {
        "id": "dgETHl5n_h28",
        "colab_type": "text"
      },
      "source": [
        "## Basics"
      ]
    },
    {
      "cell_type": "markdown",
      "metadata": {
        "id": "rDQJpZ2N_h3C",
        "colab_type": "text"
      },
      "source": [
        "Let the set of vertices be $\\{0, 1, 2,\\ldots, n-1\\}$.\n",
        "\n",
        "Without loss of generality, we can consider $0$ to be the start and end point of cycles."
      ]
    },
    {
      "cell_type": "code",
      "metadata": {
        "id": "3fwWQ4VP_h3M",
        "colab_type": "code",
        "colab": {}
      },
      "source": [
        "MAX_DISTANCE = 100\n",
        "\n",
        "def random_symmetric_graph(n):\n",
        "    ''' Symmetric adjacency matrix of size nxn '''\n",
        "    dist_matrix = [[oo for _ in range(n)] for _ in range(n)]\n",
        "    avg_dist = 0\n",
        "    for i in range(n):\n",
        "        for j in range(i+1,n):\n",
        "            v = randint(1,MAX_DISTANCE)\n",
        "            avg_dist += v\n",
        "            dist_matrix[i][j] = v\n",
        "            dist_matrix[j][i] = v\n",
        "    return dist_matrix, avg_dist/n\n",
        "\n",
        "def show(G):\n",
        "    ''' Show adjacency matrix. Useful for debugging. '''\n",
        "    n = len(G)\n",
        "    r = \"     \"\n",
        "    for i in range(n):\n",
        "        r += f'{i:4}'\n",
        "    r += '\\n    -'+'-'*(4*n)+'\\n'\n",
        "    for i in range(n):\n",
        "        r += f'{i:2} | '\n",
        "        for j in range(n):\n",
        "            r += f'{G[i][j]:4}'\n",
        "        r += '\\n'\n",
        "    r = r.replace('inf', '  ∞')\n",
        "    print(r)\n",
        "\n",
        "def cost(G, cycle):\n",
        "    ''' Calculate the cost of the given cycle '''\n",
        "    c = 0\n",
        "    n = len(G)\n",
        "    for i in range(n):\n",
        "        # a = cycle[i]\n",
        "        # b = cycle[(i+1)%n]\n",
        "        c += G[cycle[i]][cycle[i-1]]\n",
        "    return c"
      ],
      "execution_count": 0,
      "outputs": []
    },
    {
      "cell_type": "markdown",
      "metadata": {
        "id": "jwnJokt4_h3n",
        "colab_type": "text"
      },
      "source": [
        "### Example"
      ]
    },
    {
      "cell_type": "code",
      "metadata": {
        "id": "xSPi1Pp2_h3s",
        "colab_type": "code",
        "outputId": "71998a4f-205a-4fdf-d259-84d9c63f9e2b",
        "colab": {
          "base_uri": "https://localhost:8080/",
          "height": 153
        }
      },
      "source": [
        "G, avg_dist = random_symmetric_graph(5)\n",
        "show(G)"
      ],
      "execution_count": 3,
      "outputs": [
        {
          "output_type": "stream",
          "text": [
            "        0   1   2   3   4\n",
            "    ---------------------\n",
            " 0 |    ∞  32  16  13  60\n",
            " 1 |   32   ∞  78  71  51\n",
            " 2 |   16  78   ∞  78  74\n",
            " 3 |   13  71  78   ∞  18\n",
            " 4 |   60  51  74  18   ∞\n",
            "\n"
          ],
          "name": "stdout"
        }
      ]
    },
    {
      "cell_type": "markdown",
      "metadata": {
        "id": "Ke6Zt3is_h37",
        "colab_type": "text"
      },
      "source": [
        "# Solution methods"
      ]
    },
    {
      "cell_type": "markdown",
      "metadata": {
        "id": "wL7dHPID_h4C",
        "colab_type": "text"
      },
      "source": [
        "## Exact methods -- Exhaustive search"
      ]
    },
    {
      "cell_type": "markdown",
      "metadata": {
        "id": "KAFe3rq4_h4G",
        "colab_type": "text"
      },
      "source": [
        "The idea is to:\n",
        "- Consider vertex $0$ as the start and end point.\n",
        "- Iterate over all permutations of the vertices $\\{1,2,\\ldots, n-1\\}$.\n",
        "    -  Calculate cost of each permutation and keep track of minimum cost permutation.\n",
        "- Return the cycle with minimum cost.\n",
        "\n",
        "More formally, the pseudo-code is as follows:\n",
        "\n",
        "**Input**: $G$.\n",
        "\n",
        "**Output**: a cycle in $G$ of shortest cost."
      ]
    },
    {
      "cell_type": "markdown",
      "metadata": {
        "id": "bMk0Wg6p_h4N",
        "colab_type": "text"
      },
      "source": [
        "1. $bestcycle\\gets \\emptyset$\n",
        "2. $bestcost\\gets \\infty$\n",
        "3. **for all** possible cycles $p$ in $G$ (starting and ending at $0$) **do**\n",
        "4. $\\quad$ $c\\gets$ cost of $p$\n",
        "2. $\\quad$ **if** $c<bestcost$ **then**\n",
        "3. $\\qquad$ $bestcycle\\gets p$\n",
        "3. $\\qquad$ $bestcost\\gets c$\n",
        "4. $\\quad$ **end if**\n",
        "5. **end for**\n",
        "6. **return** $bestcycle, bestcost$"
      ]
    },
    {
      "cell_type": "markdown",
      "metadata": {
        "id": "0wekU5WP_h4R",
        "colab_type": "text"
      },
      "source": [
        "There are $(n-1)!$ possible cycles, and each computation of a cycle's cost costs $O(n)$. So this algorithm costs $$O((n-1)!\\cdot n)=O(n!).$$"
      ]
    },
    {
      "cell_type": "code",
      "metadata": {
        "id": "CLFNBcV9_h4T",
        "colab_type": "code",
        "colab": {}
      },
      "source": [
        "def exhaustive_search(G):\n",
        "    n = len(G)    \n",
        "    best_cost = oo # infinity\n",
        "    best_cycle = []\n",
        "    for cycle in permutations(range(1,n)): # permutations of [1,2,...,n]\n",
        "        cycle=[0]+list(cycle)              # add the starting city: 0\n",
        "        c = cost(G, cycle)\n",
        "        if c < best_cost:\n",
        "            best_cost = c\n",
        "            best_cycle = cycle\n",
        "    return (best_cycle, best_cost)"
      ],
      "execution_count": 0,
      "outputs": []
    },
    {
      "cell_type": "markdown",
      "metadata": {
        "id": "sFiioQln_h4k",
        "colab_type": "text"
      },
      "source": [
        "## Testing"
      ]
    },
    {
      "cell_type": "code",
      "metadata": {
        "scrolled": false,
        "id": "JYAK6Oby_h4n",
        "colab_type": "code",
        "outputId": "8a11fe2a-57dd-4760-80ad-57227455b429",
        "colab": {
          "base_uri": "https://localhost:8080/",
          "height": 85
        }
      },
      "source": [
        "pnts_n = []\n",
        "pnts_t = []\n",
        "\n",
        "n  = 8\n",
        "t0 = t1 = 0\n",
        "\n",
        "while t1-t0<1: # in seconds; if it takes too long then stop testing\n",
        "    G, avg_dist = random_symmetric_graph(n)\n",
        "    t0 = time()\n",
        "    exhaustive_search(G)\n",
        "    t1 = time()\n",
        "    # record time\n",
        "    print( f\"{n}\\t{t1-t0}\" )\n",
        "    pnts_n.append( n )\n",
        "    pnts_t.append( t1-t0 )\n",
        "    n += 1"
      ],
      "execution_count": 5,
      "outputs": [
        {
          "output_type": "stream",
          "text": [
            "8\t0.013967514038085938\n",
            "9\t0.06072187423706055\n",
            "10\t0.6057090759277344\n",
            "11\t6.4156880378723145\n"
          ],
          "name": "stdout"
        }
      ]
    },
    {
      "cell_type": "markdown",
      "metadata": {
        "id": "E5PbtE-e_h45",
        "colab_type": "text"
      },
      "source": [
        "Let us plot this data to see it visually."
      ]
    },
    {
      "cell_type": "code",
      "metadata": {
        "id": "5LqCGaV6_h4_",
        "colab_type": "code",
        "outputId": "c9168243-9969-4139-dad8-2fa7b4a9c695",
        "colab": {
          "base_uri": "https://localhost:8080/",
          "height": 265
        }
      },
      "source": [
        "plt.plot(pnts_n, pnts_t, 'ro-')\n",
        "plt.show()"
      ],
      "execution_count": 6,
      "outputs": [
        {
          "output_type": "display_data",
          "data": {
            "image/png": "[encoded data removed]",
            "text/plain": [
              "<Figure size 432x288 with 1 Axes>"
            ]
          },
          "metadata": {
            "tags": []
          }
        }
      ]
    },
    {
      "cell_type": "code",
      "metadata": {
        "id": "4n6c2Kdi_h5J",
        "colab_type": "code",
        "outputId": "5a90a5bc-f708-4a9e-c16f-77fdf6b892c3",
        "colab": {
          "base_uri": "https://localhost:8080/",
          "height": 265
        }
      },
      "source": [
        "pnts_ratios = [pnts_t[i]/pnts_t[i-1] for i in range(1,len(pnts_n))]\n",
        "plt.plot(pnts_n[:-1], pnts_ratios, 'ro-')\n",
        "plt.plot(pnts_n,pnts_n,'b-') # theoretical ratios\n",
        "plt.show()"
      ],
      "execution_count": 7,
      "outputs": [
        {
          "output_type": "display_data",
          "data": {
            "image/png": "[encoded data removed]",
            "text/plain": [
              "<Figure size 432x288 with 1 Axes>"
            ]
          },
          "metadata": {
            "tags": []
          }
        }
      ]
    },
    {
      "cell_type": "markdown",
      "metadata": {
        "id": "p8eBO-8q_h5U",
        "colab_type": "text"
      },
      "source": [
        "### Discussion"
      ]
    },
    {
      "cell_type": "markdown",
      "metadata": {
        "id": "H6r2E2Ka_h5W",
        "colab_type": "text"
      },
      "source": [
        "* Exhaustive search exhibits combinatorial running time $O(n!)$:\n",
        "* So it is only useful/possible when $n$ is small, up to about 13 on the current machine if it needs to finish within an hour."
      ]
    },
    {
      "cell_type": "markdown",
      "metadata": {
        "id": "j5RLfqN4_h5Z",
        "colab_type": "text"
      },
      "source": [
        "# Approximation"
      ]
    },
    {
      "cell_type": "markdown",
      "metadata": {
        "id": "6gs9xiTA_h5i",
        "colab_type": "text"
      },
      "source": [
        "## Greedy search"
      ]
    },
    {
      "cell_type": "markdown",
      "metadata": {
        "id": "UOGs6g7p_h5l",
        "colab_type": "text"
      },
      "source": [
        "##### Nearest neigbours"
      ]
    },
    {
      "cell_type": "code",
      "metadata": {
        "id": "CKd5KUMu_h5v",
        "colab_type": "code",
        "colab": {}
      },
      "source": [
        "def greedy_nearest_neighbours(G):\n",
        "    H = copy.deepcopy(G) # We need the original G. We work on/modify H\n",
        "    n = len(H)\n",
        "    cities = list(range(n))\n",
        "    cycle = [] # solution to be built\n",
        "    city = 0 # Start city\n",
        "    while len(cities)>0:\n",
        "        # Find nearest neighbour\n",
        "        city_neighbours = H[city]\n",
        "        smallest_distance = min(city_neighbours)\n",
        "        nearest_city = city_neighbours.index(smallest_distance)\n",
        "        # Update 'cycle' and 'cities' and H then 'city'\n",
        "        cycle.append(city)\n",
        "        cities.remove(city)\n",
        "        for i in range(n): # 'city' is not to be used again!\n",
        "            H[city][i] = oo\n",
        "            H[i][city] = oo\n",
        "        city = nearest_city\n",
        "    return (cycle, cost(G, cycle))\n"
      ],
      "execution_count": 0,
      "outputs": []
    },
    {
      "cell_type": "markdown",
      "metadata": {
        "id": "rtaf1i5l_h5_",
        "colab_type": "text"
      },
      "source": [
        "### Example"
      ]
    },
    {
      "cell_type": "code",
      "metadata": {
        "id": "O8ehOFe5_h6C",
        "colab_type": "code",
        "outputId": "0402cb42-c8df-40b5-eaf6-0af06bf91dfb",
        "colab": {
          "base_uri": "https://localhost:8080/",
          "height": 153
        }
      },
      "source": [
        "G, avg_dist = random_symmetric_graph(4)\n",
        "show(G)\n",
        "greedy_nearest_neighbours(G)"
      ],
      "execution_count": 9,
      "outputs": [
        {
          "output_type": "stream",
          "text": [
            "        0   1   2   3\n",
            "    -----------------\n",
            " 0 |    ∞  12  41  39\n",
            " 1 |   12   ∞  59  85\n",
            " 2 |   41  59   ∞  41\n",
            " 3 |   39  85  41   ∞\n",
            "\n"
          ],
          "name": "stdout"
        },
        {
          "output_type": "execute_result",
          "data": {
            "text/plain": [
              "([0, 1, 2, 3], 151)"
            ]
          },
          "metadata": {
            "tags": []
          },
          "execution_count": 9
        }
      ]
    },
    {
      "cell_type": "markdown",
      "metadata": {
        "id": "BlwhIupT_h6M",
        "colab_type": "text"
      },
      "source": [
        "### Test"
      ]
    },
    {
      "cell_type": "code",
      "metadata": {
        "id": "FQzAcvJS_h6Q",
        "colab_type": "code",
        "outputId": "cffc100d-9925-4b41-a7ab-e4c9f1ab1625",
        "colab": {
          "base_uri": "https://localhost:8080/",
          "height": 136
        }
      },
      "source": [
        "MAX_REPETITIONS = 100\n",
        "\n",
        "pnts_n = []\n",
        "pnts_t = []\n",
        "pnts_q = []\n",
        "\n",
        "n = 10\n",
        "t = 0\n",
        "\n",
        "while t<10: # in seconds; if it takes too long then stop testing\n",
        "    t = 0\n",
        "    expected_cycle_length = (MAX_DISTANCE/2)*n # TODO: Better estimate?\n",
        "    sum_of_avgs = 0\n",
        "\n",
        "    sum_of_distances = 0\n",
        "    for repetitions in range(MAX_REPETITIONS):\n",
        "        G, avg_dist = random_symmetric_graph(n)\n",
        "        t0 = time()\n",
        "        cycle, c = greedy_nearest_neighbours(G)\n",
        "        t1 = time()\n",
        "\n",
        "        sum_of_avgs += (avg_dist/2)*n\n",
        "        sum_of_distances += c\n",
        "        t += t1-t0\n",
        "    # record time and quality\n",
        "    q = (sum_of_distances/MAX_REPETITIONS)/expected_cycle_length\n",
        "    q2 = sum_of_distances/sum_of_avgs\n",
        "    pnts_n.append( n )\n",
        "    pnts_t.append( t )\n",
        "    pnts_q.append( q )\n",
        "    print( f\"{n}\\t{t}\\t{q}\\t{q2}\" )\n",
        "    n *= 2"
      ],
      "execution_count": 10,
      "outputs": [
        {
          "output_type": "stream",
          "text": [
            "10\t0.01291346549987793\t0.491\t0.21665747380033093\n",
            "20\t0.03315544128417969\t0.32477\t0.06756926853879403\n",
            "40\t0.11991667747497559\t0.1945\t0.01978010020222483\n",
            "80\t0.45794224739074707\t0.122735\t0.0061527186120677955\n",
            "160\t1.80637526512146\t0.07569625\t0.0018836364214354446\n",
            "320\t7.159297943115234\t0.048548125\t0.0006026125550998092\n",
            "640\t29.93306803703308\t0.0343825\t0.00021312329982804768\n"
          ],
          "name": "stdout"
        }
      ]
    },
    {
      "cell_type": "code",
      "metadata": {
        "id": "XfmTwwfq_h6Y",
        "colab_type": "code",
        "colab": {
          "base_uri": "https://localhost:8080/",
          "height": 265
        },
        "outputId": "caa759c8-f540-46c2-c9b0-1f79e48ed4c2"
      },
      "source": [
        "plt.plot(pnts_n, pnts_t, 'ro-')\n",
        "plt.show()"
      ],
      "execution_count": 11,
      "outputs": [
        {
          "output_type": "display_data",
          "data": {
            "image/png": "[encoded data removed]",
            "text/plain": [
              "<Figure size 432x288 with 1 Axes>"
            ]
          },
          "metadata": {
            "tags": []
          }
        }
      ]
    },
    {
      "cell_type": "code",
      "metadata": {
        "id": "gCxcEe_q_h6j",
        "colab_type": "code",
        "colab": {
          "base_uri": "https://localhost:8080/",
          "height": 265
        },
        "outputId": "5d7eea06-4ac7-44b8-d8e7-22cb829bf183"
      },
      "source": [
        "plt.plot(pnts_q, pnts_t, 'ro-')\n",
        "plt.show()"
      ],
      "execution_count": 12,
      "outputs": [
        {
          "output_type": "display_data",
          "data": {
            "image/png": "[encoded data removed]",
            "text/plain": [
              "<Figure size 432x288 with 1 Axes>"
            ]
          },
          "metadata": {
            "tags": []
          }
        }
      ]
    },
    {
      "cell_type": "markdown",
      "metadata": {
        "id": "QtHz5DNT_h6s",
        "colab_type": "text"
      },
      "source": [
        "## Metaheuristics"
      ]
    },
    {
      "cell_type": "markdown",
      "metadata": {
        "colab_type": "text",
        "id": "FLCQZRhw8pOW"
      },
      "source": [
        "## 1. Iterative Improvement"
      ]
    },
    {
      "cell_type": "code",
      "metadata": {
        "id": "tg8xA8bU_h6y",
        "colab_type": "code",
        "colab": {}
      },
      "source": [
        "def twoOptSwap(cycle, i, k):\n",
        "    new_cycle = cycle[:i]\n",
        "    new_cycle += cycle[i:k+1][::-1]\n",
        "    new_cycle += cycle[k+1:]\n",
        "    return new_cycle\n",
        "\n",
        "def iterative_improvement(G, cycle, best_distance):\n",
        "    H = copy.deepcopy(G) # We need the original G. We work on/modify H\n",
        "    n = len(H)\n",
        "    # cycle, best_distance = greedy_nearest_neighbours(H) # initial sol\n",
        "    \n",
        "    improved = True\n",
        "    while improved:\n",
        "        improved = False\n",
        "        # calculate total dist for existing route \n",
        "        best_distance = cost(H, cycle)\n",
        "\n",
        "        for i in range(0, n-2):\n",
        "            improved = False\n",
        "        \n",
        "            for k in range(i+1, n-1):\n",
        "                # new_cycle = twoOptSwap(cycle, i, k)\n",
        "                new_cycle = cycle[:i] + cycle[i:k+1][::-1] + cycle[k+1:]\n",
        "                new_distance = cost(H, new_cycle)\n",
        "                \n",
        "                if new_distance < best_distance:\n",
        "                    cycle = new_cycle\n",
        "                    best_distance = new_distance\n",
        "                    improved = True\n",
        "                    break\n",
        "            \n",
        "            if improved:\n",
        "                break\n",
        "                    \n",
        "                \n",
        "    return (cycle, best_distance)\n",
        "    "
      ],
      "execution_count": 0,
      "outputs": []
    },
    {
      "cell_type": "code",
      "metadata": {
        "id": "-F_Setzv_h67",
        "colab_type": "code",
        "colab": {
          "base_uri": "https://localhost:8080/",
          "height": 170
        },
        "outputId": "80cccc78-97d2-46f1-8c13-caeb7c189cdd"
      },
      "source": [
        "G, _ = random_symmetric_graph(5)\n",
        "show(G)\n",
        "cycle, best_distance = greedy_nearest_neighbours(G) # initial sol\n",
        "\n",
        "iterative_improvement(G, cycle, best_distance)"
      ],
      "execution_count": 20,
      "outputs": [
        {
          "output_type": "stream",
          "text": [
            "        0   1   2   3   4\n",
            "    ---------------------\n",
            " 0 |    ∞  48 100  80  71\n",
            " 1 |   48   ∞  10  64  85\n",
            " 2 |  100  10   ∞  66  68\n",
            " 3 |   80  64  66   ∞  25\n",
            " 4 |   71  85  68  25   ∞\n",
            "\n"
          ],
          "name": "stdout"
        },
        {
          "output_type": "execute_result",
          "data": {
            "text/plain": [
              "([0, 1, 2, 3, 4], 220)"
            ]
          },
          "metadata": {
            "tags": []
          },
          "execution_count": 20
        }
      ]
    },
    {
      "cell_type": "code",
      "metadata": {
        "id": "SGHrGqpl_h7D",
        "colab_type": "code",
        "colab": {}
      },
      "source": [
        "MAX_REPETITIONS = 10\n",
        "\n",
        "pnts_n = []\n",
        "pnts_t = []\n",
        "pnts_q = []\n",
        "\n",
        "n = 50\n",
        "t = 0\n",
        "print( f\"sz\\titer\\tNN\\tQ1\" )\n",
        "\n",
        "while t < 15: # in seconds; if it takes too long then stop testing\n",
        "    t = 0; t2 = 0\n",
        "    # expected_cycle_length = (MAX_DISTANCE/2)*n # TODO: Better estimate?\n",
        "    sum_of_distances = 0; sum_of_inits = 0\n",
        "    sum_of_avgs = 0\n",
        "    for repetitions in range(MAX_REPETITIONS):\n",
        "        G, avg_dist = random_symmetric_graph(n)\n",
        "        ti = time()\n",
        "        cycle, best_distance = greedy_nearest_neighbours(G) # initial sol\n",
        "        sum_of_inits += best_distance\n",
        "        t0 = time()\n",
        "        cycle, c = iterative_improvement(G, cycle, best_distance)\n",
        "        t1 = time()\n",
        "        sum_of_distances += c\n",
        "        sum_of_avgs += (avg_dist/2)*n\n",
        "        t += t1-t0\n",
        "        t2 += t0 - ti\n",
        "    # record time and quality\n",
        "    q = sum_of_inits / sum_of_avgs\n",
        "    qi = sum_of_distances / sum_of_avgs\n",
        "    pnts_n.append( n )\n",
        "    pnts_t.append( t )\n",
        "    pnts_q.append( q )\n",
        "    print( f\"{n}\\t{t: .2f}\\t{t2: .2f}\\t{q: .5f}\\t{q2: .5f}\\t{qi: .5f}\\t{qi2: .5f}\" )\n",
        "    n += 50"
      ],
      "execution_count": 0,
      "outputs": []
    },
    {
      "cell_type": "code",
      "metadata": {
        "colab_type": "code",
        "id": "3VJNeOVhxRNw",
        "colab": {}
      },
      "source": [
        "plt.plot(pnts_n, pnts_t, 'ro-')\n",
        "plt.show()"
      ],
      "execution_count": 0,
      "outputs": []
    },
    {
      "cell_type": "markdown",
      "metadata": {
        "id": "5xT-aNfX8gHk",
        "colab_type": "text"
      },
      "source": [
        "## 2. Simulated Annealing"
      ]
    },
    {
      "cell_type": "code",
      "metadata": {
        "colab_type": "code",
        "id": "8Yoj9MDE-Zo9",
        "colab": {}
      },
      "source": [
        "start_temperature = 20.\n",
        "stop_temperature = 2.\n",
        "MAX_CYCLES = 10\n",
        "UNCHANGED_FOR_MAX = 50\n",
        "\n",
        "def randomize(cycle, temperature):\n",
        "\n",
        "    n = len(cycle) - 1\n",
        "    for _ in range(int(temperature)):\n",
        "      idx1 = randint(0, n)\n",
        "      nxt1 = (idx1+1) % (n+1)\n",
        "      idx2 = randint(0, n)\n",
        "      nxt2 = (idx2+1) % (n+1)\n",
        "\n",
        "      distance = G[cycle[idx1]][cycle[nxt1]] \\\n",
        "               + G[cycle[idx2]][cycle[nxt2]] \\\n",
        "               - G[cycle[idx1]][cycle[idx2]] \\\n",
        "               - G[cycle[nxt1]][cycle[nxt2]]\n",
        "      if distance > 0:\n",
        "        # sort indices in ascending order\n",
        "        if idx2 < idx1:\n",
        "          idx1, idx2 = idx2, idx1\n",
        "          nxt1, nxt2 = nxt2, nxt1\n",
        "        while idx2 > idx1:\n",
        "          cycle[idx1+1], cycle[idx2] = cycle[idx2], cycle[idx1+1]\n",
        "          idx1 += 1\n",
        "          idx2 -= 1\n",
        "\n",
        "    return cycle\n",
        "\n",
        "\n",
        "def simulated_annealing(G, cycle, distance, unchanged_for = 0):\n",
        "    H = copy.deepcopy(G) # We need the original G. We work on/modify H\n",
        "    N = len(H)\n",
        "    best_distance = distance\n",
        "\n",
        "    # temperature scheduling\n",
        "    temp_dropoff = exp(log(stop_temperature / start_temperature) / (MAX_CYCLES-1))\n",
        "\n",
        "    # set initial temp\n",
        "    temperature = start_temperature\n",
        "    for _ in range(MAX_CYCLES):\n",
        "        new_cycle = randomize(cycle, temperature)\n",
        "        new_distance = cost(H, new_cycle)\n",
        "        \n",
        "        if new_distance < best_distance:\n",
        "            cycle = new_cycle\n",
        "            best_distance = new_distance\n",
        "\n",
        "        temperature *= temp_dropoff\n",
        "        \n",
        "    # check if the solution remains unchanged\n",
        "    if best_distance == distance:\n",
        "        if unchanged_for >= UNCHANGED_FOR_MAX:\n",
        "            return (cycle, best_distance)\n",
        "        else:\n",
        "            return simulated_annealing(G, cycle, distance, unchanged_for+1)\n",
        "\n",
        "    return (cycle, best_distance)\n",
        "    "
      ],
      "execution_count": 0,
      "outputs": []
    },
    {
      "cell_type": "code",
      "metadata": {
        "colab_type": "code",
        "id": "7CC8dw7Ahwnl",
        "colab": {
          "base_uri": "https://localhost:8080/",
          "height": 170
        },
        "outputId": "90bb191c-6a5b-4d89-f45b-b5884f62a7be"
      },
      "source": [
        "G, _ = random_symmetric_graph(5)\n",
        "show(G)\n",
        "cycle, best_distance = greedy_nearest_neighbours(G) # initial sol\n",
        "\n",
        "simulated_annealing(G, cycle, best_distance)"
      ],
      "execution_count": 27,
      "outputs": [
        {
          "output_type": "stream",
          "text": [
            "        0   1   2   3   4\n",
            "    ---------------------\n",
            " 0 |    ∞  19  77  29  61\n",
            " 1 |   19   ∞  45   6  88\n",
            " 2 |   77  45   ∞  65  55\n",
            " 3 |   29   6  65   ∞  85\n",
            " 4 |   61  88  55  85   ∞\n",
            "\n"
          ],
          "name": "stdout"
        },
        {
          "output_type": "execute_result",
          "data": {
            "text/plain": [
              "([0, 1, 3, 2, 4], 206)"
            ]
          },
          "metadata": {
            "tags": []
          },
          "execution_count": 27
        }
      ]
    },
    {
      "cell_type": "markdown",
      "metadata": {
        "colab_type": "text",
        "id": "_bHUWJVe826c"
      },
      "source": [
        "# Conclusion"
      ]
    },
    {
      "cell_type": "code",
      "metadata": {
        "colab_type": "code",
        "id": "Fyld7L60kgol",
        "colab": {
          "base_uri": "https://localhost:8080/",
          "height": 272
        },
        "outputId": "c6f89b32-8e99-4b00-a997-01bf3f2bd835"
      },
      "source": [
        "MAX_REPETITIONS = 10\n",
        "\n",
        "pnts_n = []\n",
        "pnts_t = []\n",
        "pnts_q = []\n",
        "\n",
        "n = 50\n",
        "t = 0\n",
        "print( f\"sz\\titer\\tNN\\tQ1\" )\n",
        "\n",
        "while t < 15: # in seconds; if it takes too long then stop testing\n",
        "    t = t_iter = t_sa = 0\n",
        "    # expected_cycle_length = (MAX_DISTANCE/2)*n # TODO: Better estimate?\n",
        "    sum_of_distances = sum_of_inits = sum_of_sa = 0\n",
        "    sum_of_avgs = 0\n",
        "    for repetitions in range(MAX_REPETITIONS):\n",
        "        G, avg_dist = random_symmetric_graph(n)\n",
        "        ti = time()\n",
        "        cycle, best_distance = greedy_nearest_neighbours(G) # initial sol\n",
        "        sum_of_inits += best_distance\n",
        "        t0 = time()\n",
        "        # _, c = iterative_improvement(G, cycle, best_distance)\n",
        "        t1 = time()\n",
        "        _, sa = simulated_annealing(G, cycle, best_distance)\n",
        "        t2 = time()\n",
        "        sum_of_distances += c\n",
        "        sum_of_sa += sa\n",
        "        sum_of_avgs += (avg_dist/2)*n\n",
        "        t_sa += t2 - t1\n",
        "        # t_iter += t1-t0\n",
        "        t += t0 - ti\n",
        "    # record time and quality\n",
        "    q = sum_of_inits / sum_of_avgs\n",
        "    # qi = sum_of_distances / sum_of_avgs\n",
        "    q_sa = sum_of_sa / sum_of_avgs\n",
        "    pnts_n.append( n )\n",
        "    pnts_t.append( t )\n",
        "    pnts_q.append( q )\n",
        "    # print( f\"{n}\\t{t: .2f}\\t{t_iter: .2f}\\t{t_sa: .2f}\\t{q: .5f}\\t{qi: .5f}\\t{q_sa: .5f}\" )\n",
        "    print( f\"{n}\\t{t: .2f}\\t{t_sa: .2f}\\t{q: .5f}\\t{q_sa: .5f}\" )\n",
        "    n += 50"
      ],
      "execution_count": 0,
      "outputs": [
        {
          "output_type": "stream",
          "text": [
            "sz\titer\tNN\tQ1\n",
            "50\t 0.02\t 0.03\t 0.01443\t 0.01365\n",
            "100\t 0.07\t 0.10\t 0.00438\t 0.00425\n",
            "150\t 0.16\t 0.22\t 0.00224\t 0.00216\n",
            "200\t 0.29\t 1.16\t 0.00127\t 0.00123\n",
            "250\t 0.44\t 0.91\t 0.00089\t 0.00085\n",
            "300\t 0.62\t 3.29\t 0.00069\t 0.00067\n",
            "350\t 0.85\t 3.05\t 0.00053\t 0.00053\n",
            "400\t 1.14\t 6.23\t 0.00044\t 0.00043\n",
            "450\t 1.43\t 11.31\t 0.00036\t 0.00035\n",
            "500\t 1.78\t 14.99\t 0.00030\t 0.00030\n",
            "550\t 2.14\t 6.97\t 0.00028\t 0.00028\n",
            "600\t 2.55\t 23.00\t 0.00023\t 0.00022\n",
            "650\t 3.03\t 19.81\t 0.00021\t 0.00021\n",
            "700\t 3.50\t 30.93\t 0.00019\t 0.00019\n"
          ],
          "name": "stdout"
        }
      ]
    },
    {
      "cell_type": "markdown",
      "metadata": {
        "id": "fivJOY5P9G0U",
        "colab_type": "text"
      },
      "source": [
        "**Clear, brief and precise practical recommendations on\n",
        "which algorithms to use when, based on your computational experiments.**"
      ]
    },
    {
      "cell_type": "markdown",
      "metadata": {
        "colab_type": "text",
        "id": "1VC1T3uv9F9n"
      },
      "source": [
        "# References"
      ]
    },
    {
      "cell_type": "markdown",
      "metadata": {
        "id": "1KpjFtyp_h7P",
        "colab_type": "text"
      },
      "source": [
        "* Garey, S. and Johnson, D. (1979)\n",
        "**Computers and Intractability: A Guide to the Theory of NP-Completeness.**\n",
        "Freeman.\n",
        "\n",
        "* Hoos, H. and Stutzler, T. (2005)\n",
        "**Stochastic Local Search: Foundations and Applications.**\n",
        "Morgan Kaufmann.\n",
        "\n",
        "* Sipser, M. (2013).\n",
        "**Introduction to the theory of computation**\n",
        "(3rd international ed.). Cengage Learning."
      ]
    },
    {
      "cell_type": "code",
      "metadata": {
        "id": "DZoZtrMI_h7S",
        "colab_type": "code",
        "colab": {}
      },
      "source": [
        ""
      ],
      "execution_count": 0,
      "outputs": []
    }
  ]
}